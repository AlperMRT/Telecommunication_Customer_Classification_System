{
 "cells": [
  {
   "metadata": {},
   "cell_type": "markdown",
   "source": [
    "# This is a sample Jupyter Notebook\n",
    "\n",
    "Below is an example of a code cell. \n",
    "Put your cursor into the cell and press Shift+Enter to execute it and select the next one, or click 'Run Cell' button.\n",
    "\n",
    "Press Double Shift to search everywhere for classes, files, tool windows, actions, and settings.\n",
    "\n",
    "To learn more about Jupyter Notebooks in PyCharm, see [help](https://www.jetbrains.com/help/pycharm/ipython-notebook-support.html).\n",
    "For an overview of PyCharm, go to Help -> Learn IDE features or refer to [our documentation](https://www.jetbrains.com/help/pycharm/getting-started.html)."
   ],
   "id": "8a77807f92f26ee"
  },
  {
   "metadata": {
    "ExecuteTime": {
     "end_time": "2024-10-23T19:03:50.309799Z",
     "start_time": "2024-10-23T19:03:50.126723Z"
    }
   },
   "cell_type": "code",
   "source": [
    "import math\n",
    "\n",
    "import pandas as pd\n",
    "import seaborn as sns\n",
    "import matplotlib.pyplot as plt\n",
    "from sklearn.preprocessing import LabelEncoder\n"
   ],
   "id": "fbc121e30a2defb3",
   "outputs": [],
   "execution_count": 1
  },
  {
   "metadata": {
    "ExecuteTime": {
     "end_time": "2024-10-23T19:03:51.573047Z",
     "start_time": "2024-10-23T19:03:51.556296Z"
    }
   },
   "cell_type": "code",
   "source": [
    "data_path=\"AIN313_F24_PA1_Dataset_v1/telecommunicaton_classification.csv\"\n",
    "data=pd.read_csv(data_path)"
   ],
   "id": "e7dbce743e9d0a26",
   "outputs": [],
   "execution_count": 2
  },
  {
   "metadata": {
    "ExecuteTime": {
     "end_time": "2024-10-23T19:03:52.527631Z",
     "start_time": "2024-10-23T19:03:52.516310Z"
    }
   },
   "cell_type": "code",
   "source": "data.info",
   "id": "c38f63130e7993dc",
   "outputs": [
    {
     "data": {
      "text/plain": [
       "<bound method DataFrame.info of      district  customer_since  age is_married  address  salary  ed  \\\n",
       "0           2              13   44        Yes        9    64.0   4   \n",
       "1           3              11   33        Yes        7   136.0   5   \n",
       "2           3              68   52        Yes       24   116.0   1   \n",
       "3           2              33   33         No       12    33.0   2   \n",
       "4           2              23   30        Yes        9    30.0   1   \n",
       "..        ...             ...  ...        ...      ...     ...  ..   \n",
       "995         3              10   39         No        0    27.0   3   \n",
       "996         1               7   34         No        2    22.0   5   \n",
       "997         3              67   59         No       40   944.0   5   \n",
       "998         3              70   49         No       18    87.0   2   \n",
       "999         3              50   36        Yes        7    39.0   3   \n",
       "\n",
       "     employment_status is_retired gender  reside              service  \n",
       "0                    5         No      F       2  Fundamental Service  \n",
       "1                    5         No      F       6     Complete Service  \n",
       "2                   29         No      M       2     Advanced Service  \n",
       "3                    0         No      M       1  Fundamental Service  \n",
       "4                    2         No      F       4     Advanced Service  \n",
       "..                 ...        ...    ...     ...                  ...  \n",
       "995                  0         No      M       3  Fundamental Service  \n",
       "996                  5         No      M       1  Fundamental Service  \n",
       "997                 33         No      M       1     Complete Service  \n",
       "998                 22         No      M       1     Advanced Service  \n",
       "999                  3         No      M       3            E-Service  \n",
       "\n",
       "[1000 rows x 12 columns]>"
      ]
     },
     "execution_count": 3,
     "metadata": {},
     "output_type": "execute_result"
    }
   ],
   "execution_count": 3
  },
  {
   "metadata": {
    "ExecuteTime": {
     "end_time": "2024-10-23T19:03:54.325496Z",
     "start_time": "2024-10-23T19:03:54.311292Z"
    }
   },
   "cell_type": "code",
   "source": "data.head()",
   "id": "cf32fba4b9615d60",
   "outputs": [
    {
     "data": {
      "text/plain": [
       "   district  customer_since  age is_married  address  salary  ed  \\\n",
       "0         2              13   44        Yes        9    64.0   4   \n",
       "1         3              11   33        Yes        7   136.0   5   \n",
       "2         3              68   52        Yes       24   116.0   1   \n",
       "3         2              33   33         No       12    33.0   2   \n",
       "4         2              23   30        Yes        9    30.0   1   \n",
       "\n",
       "   employment_status is_retired gender  reside              service  \n",
       "0                  5         No      F       2  Fundamental Service  \n",
       "1                  5         No      F       6     Complete Service  \n",
       "2                 29         No      M       2     Advanced Service  \n",
       "3                  0         No      M       1  Fundamental Service  \n",
       "4                  2         No      F       4     Advanced Service  "
      ],
      "text/html": [
       "<div>\n",
       "<style scoped>\n",
       "    .dataframe tbody tr th:only-of-type {\n",
       "        vertical-align: middle;\n",
       "    }\n",
       "\n",
       "    .dataframe tbody tr th {\n",
       "        vertical-align: top;\n",
       "    }\n",
       "\n",
       "    .dataframe thead th {\n",
       "        text-align: right;\n",
       "    }\n",
       "</style>\n",
       "<table border=\"1\" class=\"dataframe\">\n",
       "  <thead>\n",
       "    <tr style=\"text-align: right;\">\n",
       "      <th></th>\n",
       "      <th>district</th>\n",
       "      <th>customer_since</th>\n",
       "      <th>age</th>\n",
       "      <th>is_married</th>\n",
       "      <th>address</th>\n",
       "      <th>salary</th>\n",
       "      <th>ed</th>\n",
       "      <th>employment_status</th>\n",
       "      <th>is_retired</th>\n",
       "      <th>gender</th>\n",
       "      <th>reside</th>\n",
       "      <th>service</th>\n",
       "    </tr>\n",
       "  </thead>\n",
       "  <tbody>\n",
       "    <tr>\n",
       "      <th>0</th>\n",
       "      <td>2</td>\n",
       "      <td>13</td>\n",
       "      <td>44</td>\n",
       "      <td>Yes</td>\n",
       "      <td>9</td>\n",
       "      <td>64.0</td>\n",
       "      <td>4</td>\n",
       "      <td>5</td>\n",
       "      <td>No</td>\n",
       "      <td>F</td>\n",
       "      <td>2</td>\n",
       "      <td>Fundamental Service</td>\n",
       "    </tr>\n",
       "    <tr>\n",
       "      <th>1</th>\n",
       "      <td>3</td>\n",
       "      <td>11</td>\n",
       "      <td>33</td>\n",
       "      <td>Yes</td>\n",
       "      <td>7</td>\n",
       "      <td>136.0</td>\n",
       "      <td>5</td>\n",
       "      <td>5</td>\n",
       "      <td>No</td>\n",
       "      <td>F</td>\n",
       "      <td>6</td>\n",
       "      <td>Complete Service</td>\n",
       "    </tr>\n",
       "    <tr>\n",
       "      <th>2</th>\n",
       "      <td>3</td>\n",
       "      <td>68</td>\n",
       "      <td>52</td>\n",
       "      <td>Yes</td>\n",
       "      <td>24</td>\n",
       "      <td>116.0</td>\n",
       "      <td>1</td>\n",
       "      <td>29</td>\n",
       "      <td>No</td>\n",
       "      <td>M</td>\n",
       "      <td>2</td>\n",
       "      <td>Advanced Service</td>\n",
       "    </tr>\n",
       "    <tr>\n",
       "      <th>3</th>\n",
       "      <td>2</td>\n",
       "      <td>33</td>\n",
       "      <td>33</td>\n",
       "      <td>No</td>\n",
       "      <td>12</td>\n",
       "      <td>33.0</td>\n",
       "      <td>2</td>\n",
       "      <td>0</td>\n",
       "      <td>No</td>\n",
       "      <td>M</td>\n",
       "      <td>1</td>\n",
       "      <td>Fundamental Service</td>\n",
       "    </tr>\n",
       "    <tr>\n",
       "      <th>4</th>\n",
       "      <td>2</td>\n",
       "      <td>23</td>\n",
       "      <td>30</td>\n",
       "      <td>Yes</td>\n",
       "      <td>9</td>\n",
       "      <td>30.0</td>\n",
       "      <td>1</td>\n",
       "      <td>2</td>\n",
       "      <td>No</td>\n",
       "      <td>F</td>\n",
       "      <td>4</td>\n",
       "      <td>Advanced Service</td>\n",
       "    </tr>\n",
       "  </tbody>\n",
       "</table>\n",
       "</div>"
      ]
     },
     "execution_count": 4,
     "metadata": {},
     "output_type": "execute_result"
    }
   ],
   "execution_count": 4
  },
  {
   "metadata": {
    "ExecuteTime": {
     "end_time": "2024-10-23T19:03:57.379188Z",
     "start_time": "2024-10-23T19:03:57.359506Z"
    }
   },
   "cell_type": "code",
   "source": "data.describe()",
   "id": "cc53605bda7eeb9d",
   "outputs": [
    {
     "data": {
      "text/plain": [
       "        district  customer_since          age      address       salary  \\\n",
       "count  1000.0000     1000.000000  1000.000000  1000.000000  1000.000000   \n",
       "mean      2.0220       35.526000    41.684000    11.551000    77.535000   \n",
       "std       0.8162       21.359812    12.558816    10.086681   107.044165   \n",
       "min       1.0000        1.000000    18.000000     0.000000     9.000000   \n",
       "25%       1.0000       17.000000    32.000000     3.000000    29.000000   \n",
       "50%       2.0000       34.000000    40.000000     9.000000    47.000000   \n",
       "75%       3.0000       54.000000    51.000000    18.000000    83.000000   \n",
       "max       3.0000       72.000000    77.000000    55.000000  1668.000000   \n",
       "\n",
       "                ed  employment_status       reside  \n",
       "count  1000.000000        1000.000000  1000.000000  \n",
       "mean      2.671000          10.987000     2.331000  \n",
       "std       1.222397          10.082087     1.435793  \n",
       "min       1.000000           0.000000     1.000000  \n",
       "25%       2.000000           3.000000     1.000000  \n",
       "50%       3.000000           8.000000     2.000000  \n",
       "75%       4.000000          17.000000     3.000000  \n",
       "max       5.000000          47.000000     8.000000  "
      ],
      "text/html": [
       "<div>\n",
       "<style scoped>\n",
       "    .dataframe tbody tr th:only-of-type {\n",
       "        vertical-align: middle;\n",
       "    }\n",
       "\n",
       "    .dataframe tbody tr th {\n",
       "        vertical-align: top;\n",
       "    }\n",
       "\n",
       "    .dataframe thead th {\n",
       "        text-align: right;\n",
       "    }\n",
       "</style>\n",
       "<table border=\"1\" class=\"dataframe\">\n",
       "  <thead>\n",
       "    <tr style=\"text-align: right;\">\n",
       "      <th></th>\n",
       "      <th>district</th>\n",
       "      <th>customer_since</th>\n",
       "      <th>age</th>\n",
       "      <th>address</th>\n",
       "      <th>salary</th>\n",
       "      <th>ed</th>\n",
       "      <th>employment_status</th>\n",
       "      <th>reside</th>\n",
       "    </tr>\n",
       "  </thead>\n",
       "  <tbody>\n",
       "    <tr>\n",
       "      <th>count</th>\n",
       "      <td>1000.0000</td>\n",
       "      <td>1000.000000</td>\n",
       "      <td>1000.000000</td>\n",
       "      <td>1000.000000</td>\n",
       "      <td>1000.000000</td>\n",
       "      <td>1000.000000</td>\n",
       "      <td>1000.000000</td>\n",
       "      <td>1000.000000</td>\n",
       "    </tr>\n",
       "    <tr>\n",
       "      <th>mean</th>\n",
       "      <td>2.0220</td>\n",
       "      <td>35.526000</td>\n",
       "      <td>41.684000</td>\n",
       "      <td>11.551000</td>\n",
       "      <td>77.535000</td>\n",
       "      <td>2.671000</td>\n",
       "      <td>10.987000</td>\n",
       "      <td>2.331000</td>\n",
       "    </tr>\n",
       "    <tr>\n",
       "      <th>std</th>\n",
       "      <td>0.8162</td>\n",
       "      <td>21.359812</td>\n",
       "      <td>12.558816</td>\n",
       "      <td>10.086681</td>\n",
       "      <td>107.044165</td>\n",
       "      <td>1.222397</td>\n",
       "      <td>10.082087</td>\n",
       "      <td>1.435793</td>\n",
       "    </tr>\n",
       "    <tr>\n",
       "      <th>min</th>\n",
       "      <td>1.0000</td>\n",
       "      <td>1.000000</td>\n",
       "      <td>18.000000</td>\n",
       "      <td>0.000000</td>\n",
       "      <td>9.000000</td>\n",
       "      <td>1.000000</td>\n",
       "      <td>0.000000</td>\n",
       "      <td>1.000000</td>\n",
       "    </tr>\n",
       "    <tr>\n",
       "      <th>25%</th>\n",
       "      <td>1.0000</td>\n",
       "      <td>17.000000</td>\n",
       "      <td>32.000000</td>\n",
       "      <td>3.000000</td>\n",
       "      <td>29.000000</td>\n",
       "      <td>2.000000</td>\n",
       "      <td>3.000000</td>\n",
       "      <td>1.000000</td>\n",
       "    </tr>\n",
       "    <tr>\n",
       "      <th>50%</th>\n",
       "      <td>2.0000</td>\n",
       "      <td>34.000000</td>\n",
       "      <td>40.000000</td>\n",
       "      <td>9.000000</td>\n",
       "      <td>47.000000</td>\n",
       "      <td>3.000000</td>\n",
       "      <td>8.000000</td>\n",
       "      <td>2.000000</td>\n",
       "    </tr>\n",
       "    <tr>\n",
       "      <th>75%</th>\n",
       "      <td>3.0000</td>\n",
       "      <td>54.000000</td>\n",
       "      <td>51.000000</td>\n",
       "      <td>18.000000</td>\n",
       "      <td>83.000000</td>\n",
       "      <td>4.000000</td>\n",
       "      <td>17.000000</td>\n",
       "      <td>3.000000</td>\n",
       "    </tr>\n",
       "    <tr>\n",
       "      <th>max</th>\n",
       "      <td>3.0000</td>\n",
       "      <td>72.000000</td>\n",
       "      <td>77.000000</td>\n",
       "      <td>55.000000</td>\n",
       "      <td>1668.000000</td>\n",
       "      <td>5.000000</td>\n",
       "      <td>47.000000</td>\n",
       "      <td>8.000000</td>\n",
       "    </tr>\n",
       "  </tbody>\n",
       "</table>\n",
       "</div>"
      ]
     },
     "execution_count": 5,
     "metadata": {},
     "output_type": "execute_result"
    }
   ],
   "execution_count": 5
  },
  {
   "metadata": {
    "ExecuteTime": {
     "end_time": "2024-10-23T19:03:59.603181Z",
     "start_time": "2024-10-23T19:03:59.597095Z"
    }
   },
   "cell_type": "code",
   "source": "print(data.isnull().sum())",
   "id": "8f7ae5897d4ebf00",
   "outputs": [
    {
     "name": "stdout",
     "output_type": "stream",
     "text": [
      "district             0\n",
      "customer_since       0\n",
      "age                  0\n",
      "is_married           0\n",
      "address              0\n",
      "salary               0\n",
      "ed                   0\n",
      "employment_status    0\n",
      "is_retired           0\n",
      "gender               0\n",
      "reside               0\n",
      "service              0\n",
      "dtype: int64\n"
     ]
    }
   ],
   "execution_count": 6
  },
  {
   "metadata": {
    "ExecuteTime": {
     "end_time": "2024-10-23T19:04:01.234075Z",
     "start_time": "2024-10-23T19:04:01.227120Z"
    }
   },
   "cell_type": "code",
   "source": "data.dtypes",
   "id": "20a78746c48f06cf",
   "outputs": [
    {
     "data": {
      "text/plain": [
       "district               int64\n",
       "customer_since         int64\n",
       "age                    int64\n",
       "is_married            object\n",
       "address                int64\n",
       "salary               float64\n",
       "ed                     int64\n",
       "employment_status      int64\n",
       "is_retired            object\n",
       "gender                object\n",
       "reside                 int64\n",
       "service               object\n",
       "dtype: object"
      ]
     },
     "execution_count": 7,
     "metadata": {},
     "output_type": "execute_result"
    }
   ],
   "execution_count": 7
  },
  {
   "metadata": {
    "ExecuteTime": {
     "end_time": "2024-10-23T19:04:02.725442Z",
     "start_time": "2024-10-23T19:04:02.537266Z"
    }
   },
   "cell_type": "code",
   "source": [
    "#Visualization of Gender Distribution\n",
    "plt.figure(figsize=(12,8))\n",
    "sns.countplot(x=\"gender\", data=data, hue=\"gender\", palette=[\"fuchsia\", \"dodgerblue\"])\n",
    "plt.title(\"Distribution of Gender\")\n",
    "plt.show()"
   ],
   "id": "79d53b067469a19",
   "outputs": [
    {
     "data": {
      "text/plain": [
       "<Figure size 1200x800 with 1 Axes>"
      ],
      "image/png": "[encoded data removed]"
     },
     "metadata": {},
     "output_type": "display_data"
    }
   ],
   "execution_count": 8
  },
  {
   "metadata": {
    "ExecuteTime": {
     "end_time": "2024-10-23T19:04:05.248951Z",
     "start_time": "2024-10-23T19:04:05.050756Z"
    }
   },
   "cell_type": "code",
   "source": [
    "#Visualization of Service Distribution\n",
    "plt.figure(figsize=(12,8))\n",
    "sns.countplot(x=\"service\",data=data, hue=\"service\", palette=[\"red\",\"yellow\",\"aqua\",\"indigo\"])\n",
    "plt.title(\"Distribution of Service\")\n",
    "plt.show()"
   ],
   "id": "ddc89c51db763c2e",
   "outputs": [
    {
     "data": {
      "text/plain": [
       "<Figure size 1200x800 with 1 Axes>"
      ],
      "image/png": "[encoded data removed]"
     },
     "metadata": {},
     "output_type": "display_data"
    }
   ],
   "execution_count": 9
  },
  {
   "metadata": {
    "ExecuteTime": {
     "end_time": "2024-10-23T19:04:08.214639Z",
     "start_time": "2024-10-23T19:04:08.210171Z"
    }
   },
   "cell_type": "code",
   "source": "print((data['service']==\"Advanced Service\").sum())",
   "id": "ba4fb5b911aac108",
   "outputs": [
    {
     "name": "stdout",
     "output_type": "stream",
     "text": [
      "281\n"
     ]
    }
   ],
   "execution_count": 10
  },
  {
   "metadata": {
    "ExecuteTime": {
     "end_time": "2024-10-23T19:04:09.084732Z",
     "start_time": "2024-10-23T19:04:09.079988Z"
    }
   },
   "cell_type": "code",
   "source": "print((data['service'] == \"E-Service\").sum())",
   "id": "57246f54294d2316",
   "outputs": [
    {
     "name": "stdout",
     "output_type": "stream",
     "text": [
      "217\n"
     ]
    }
   ],
   "execution_count": 11
  },
  {
   "metadata": {
    "ExecuteTime": {
     "end_time": "2024-10-23T19:04:11.116250Z",
     "start_time": "2024-10-23T19:04:11.112352Z"
    }
   },
   "cell_type": "code",
   "source": "print((data['service'] == \"Complete Service\").sum())",
   "id": "13015e02f22bd9a5",
   "outputs": [
    {
     "name": "stdout",
     "output_type": "stream",
     "text": [
      "236\n"
     ]
    }
   ],
   "execution_count": 12
  },
  {
   "metadata": {
    "ExecuteTime": {
     "end_time": "2024-10-23T19:04:12.558922Z",
     "start_time": "2024-10-23T19:04:12.553333Z"
    }
   },
   "cell_type": "code",
   "source": "print((data['service'] == \"Fundamental Service\").sum())",
   "id": "c6251b074b4a0842",
   "outputs": [
    {
     "name": "stdout",
     "output_type": "stream",
     "text": [
      "266\n"
     ]
    }
   ],
   "execution_count": 13
  },
  {
   "metadata": {
    "ExecuteTime": {
     "end_time": "2024-10-23T19:04:14.650966Z",
     "start_time": "2024-10-23T19:04:14.394223Z"
    }
   },
   "cell_type": "code",
   "source": [
    "#Visualization of Age Distribution\n",
    "plt.figure(figsize=(12,8))\n",
    "sns.histplot(data[\"age\"],kde=True,bins=50,color=\"yellow\")\n",
    "plt.title(\"Distribution of Age\")\n",
    "plt.show()"
   ],
   "id": "4fbca74a4b3b10a0",
   "outputs": [
    {
     "data": {
      "text/plain": [
       "<Figure size 1200x800 with 1 Axes>"
      ],
      "image/png": "[encoded data removed]"
     },
     "metadata": {},
     "output_type": "display_data"
    }
   ],
   "execution_count": 14
  },
  {
   "metadata": {
    "ExecuteTime": {
     "end_time": "2024-10-23T19:04:17.168420Z",
     "start_time": "2024-10-23T19:04:17.163378Z"
    }
   },
   "cell_type": "code",
   "source": "print(data[\"age\"].mean())",
   "id": "1df365703dc7db50",
   "outputs": [
    {
     "name": "stdout",
     "output_type": "stream",
     "text": [
      "41.684\n"
     ]
    }
   ],
   "execution_count": 15
  },
  {
   "metadata": {
    "ExecuteTime": {
     "end_time": "2024-10-23T19:04:18.654602Z",
     "start_time": "2024-10-23T19:04:18.396821Z"
    }
   },
   "cell_type": "code",
   "source": [
    "#Visualization of Salary Distribution\n",
    "plt.figure(figsize=(12,8))\n",
    "sns.histplot(data[\"salary\"],kde=True,bins=50,color=\"yellow\")\n",
    "plt.title(\"Distribution of Salary\")\n",
    "plt.show()"
   ],
   "id": "85782a7231941939",
   "outputs": [
    {
     "data": {
      "text/plain": [
       "<Figure size 1200x800 with 1 Axes>"
      ],
      "image/png": "[encoded data removed]"
     },
     "metadata": {},
     "output_type": "display_data"
    }
   ],
   "execution_count": 16
  },
  {
   "metadata": {
    "ExecuteTime": {
     "end_time": "2024-10-23T19:04:20.790130Z",
     "start_time": "2024-10-23T19:04:20.785047Z"
    }
   },
   "cell_type": "code",
   "source": "print(data[\"salary\"].mean())",
   "id": "3588aa79b9991aac",
   "outputs": [
    {
     "name": "stdout",
     "output_type": "stream",
     "text": [
      "77.535\n"
     ]
    }
   ],
   "execution_count": 17
  },
  {
   "metadata": {
    "ExecuteTime": {
     "end_time": "2024-10-23T19:04:21.744847Z",
     "start_time": "2024-10-23T19:04:21.740814Z"
    }
   },
   "cell_type": "code",
   "source": "print(data[\"salary\"].max())",
   "id": "db7c8c7c3936885f",
   "outputs": [
    {
     "name": "stdout",
     "output_type": "stream",
     "text": [
      "1668.0\n"
     ]
    }
   ],
   "execution_count": 18
  },
  {
   "metadata": {
    "ExecuteTime": {
     "end_time": "2024-10-23T19:04:23.093508Z",
     "start_time": "2024-10-23T19:04:22.957796Z"
    }
   },
   "cell_type": "code",
   "source": [
    "#Visualization of Retirement Distribution\n",
    "plt.figure(figsize=(12,8))\n",
    "sns.countplot(x=\"is_retired\", data=data, hue=\"is_retired\", palette=[\"black\", \"yellow\"])\n",
    "plt.title(\"Distribution of Retirement\")\n",
    "plt.show()"
   ],
   "id": "2d0a2f47d281a503",
   "outputs": [
    {
     "data": {
      "text/plain": [
       "<Figure size 1200x800 with 1 Axes>"
      ],
      "image/png": "[encoded data removed]"
     },
     "metadata": {},
     "output_type": "display_data"
    }
   ],
   "execution_count": 19
  },
  {
   "metadata": {
    "ExecuteTime": {
     "end_time": "2024-10-23T19:04:26.435267Z",
     "start_time": "2024-10-23T19:04:26.285197Z"
    }
   },
   "cell_type": "code",
   "source": [
    "#Visualization of Marriage Distribution\n",
    "plt.figure(figsize=(12,8))\n",
    "sns.countplot(x=\"is_married\", data=data, hue=\"is_married\", palette=[\"black\", \"yellow\"])\n",
    "plt.title(\"Distribution of Marriage\")\n",
    "plt.show()"
   ],
   "id": "d4c9573b453b3e9e",
   "outputs": [
    {
     "data": {
      "text/plain": [
       "<Figure size 1200x800 with 1 Axes>"
      ],
      "image/png": "[encoded data removed]"
     },
     "metadata": {},
     "output_type": "display_data"
    }
   ],
   "execution_count": 20
  },
  {
   "metadata": {
    "ExecuteTime": {
     "end_time": "2024-10-23T19:04:29.071108Z",
     "start_time": "2024-10-23T19:04:29.060152Z"
    }
   },
   "cell_type": "code",
   "source": [
    "copy_data=data.copy()\n",
    "copy_data.head() #just insurance"
   ],
   "id": "4373759d521d9926",
   "outputs": [
    {
     "data": {
      "text/plain": [
       "   district  customer_since  age is_married  address  salary  ed  \\\n",
       "0         2              13   44        Yes        9    64.0   4   \n",
       "1         3              11   33        Yes        7   136.0   5   \n",
       "2         3              68   52        Yes       24   116.0   1   \n",
       "3         2              33   33         No       12    33.0   2   \n",
       "4         2              23   30        Yes        9    30.0   1   \n",
       "\n",
       "   employment_status is_retired gender  reside              service  \n",
       "0                  5         No      F       2  Fundamental Service  \n",
       "1                  5         No      F       6     Complete Service  \n",
       "2                 29         No      M       2     Advanced Service  \n",
       "3                  0         No      M       1  Fundamental Service  \n",
       "4                  2         No      F       4     Advanced Service  "
      ],
      "text/html": [
       "<div>\n",
       "<style scoped>\n",
       "    .dataframe tbody tr th:only-of-type {\n",
       "        vertical-align: middle;\n",
       "    }\n",
       "\n",
       "    .dataframe tbody tr th {\n",
       "        vertical-align: top;\n",
       "    }\n",
       "\n",
       "    .dataframe thead th {\n",
       "        text-align: right;\n",
       "    }\n",
       "</style>\n",
       "<table border=\"1\" class=\"dataframe\">\n",
       "  <thead>\n",
       "    <tr style=\"text-align: right;\">\n",
       "      <th></th>\n",
       "      <th>district</th>\n",
       "      <th>customer_since</th>\n",
       "      <th>age</th>\n",
       "      <th>is_married</th>\n",
       "      <th>address</th>\n",
       "      <th>salary</th>\n",
       "      <th>ed</th>\n",
       "      <th>employment_status</th>\n",
       "      <th>is_retired</th>\n",
       "      <th>gender</th>\n",
       "      <th>reside</th>\n",
       "      <th>service</th>\n",
       "    </tr>\n",
       "  </thead>\n",
       "  <tbody>\n",
       "    <tr>\n",
       "      <th>0</th>\n",
       "      <td>2</td>\n",
       "      <td>13</td>\n",
       "      <td>44</td>\n",
       "      <td>Yes</td>\n",
       "      <td>9</td>\n",
       "      <td>64.0</td>\n",
       "      <td>4</td>\n",
       "      <td>5</td>\n",
       "      <td>No</td>\n",
       "      <td>F</td>\n",
       "      <td>2</td>\n",
       "      <td>Fundamental Service</td>\n",
       "    </tr>\n",
       "    <tr>\n",
       "      <th>1</th>\n",
       "      <td>3</td>\n",
       "      <td>11</td>\n",
       "      <td>33</td>\n",
       "      <td>Yes</td>\n",
       "      <td>7</td>\n",
       "      <td>136.0</td>\n",
       "      <td>5</td>\n",
       "      <td>5</td>\n",
       "      <td>No</td>\n",
       "      <td>F</td>\n",
       "      <td>6</td>\n",
       "      <td>Complete Service</td>\n",
       "    </tr>\n",
       "    <tr>\n",
       "      <th>2</th>\n",
       "      <td>3</td>\n",
       "      <td>68</td>\n",
       "      <td>52</td>\n",
       "      <td>Yes</td>\n",
       "      <td>24</td>\n",
       "      <td>116.0</td>\n",
       "      <td>1</td>\n",
       "      <td>29</td>\n",
       "      <td>No</td>\n",
       "      <td>M</td>\n",
       "      <td>2</td>\n",
       "      <td>Advanced Service</td>\n",
       "    </tr>\n",
       "    <tr>\n",
       "      <th>3</th>\n",
       "      <td>2</td>\n",
       "      <td>33</td>\n",
       "      <td>33</td>\n",
       "      <td>No</td>\n",
       "      <td>12</td>\n",
       "      <td>33.0</td>\n",
       "      <td>2</td>\n",
       "      <td>0</td>\n",
       "      <td>No</td>\n",
       "      <td>M</td>\n",
       "      <td>1</td>\n",
       "      <td>Fundamental Service</td>\n",
       "    </tr>\n",
       "    <tr>\n",
       "      <th>4</th>\n",
       "      <td>2</td>\n",
       "      <td>23</td>\n",
       "      <td>30</td>\n",
       "      <td>Yes</td>\n",
       "      <td>9</td>\n",
       "      <td>30.0</td>\n",
       "      <td>1</td>\n",
       "      <td>2</td>\n",
       "      <td>No</td>\n",
       "      <td>F</td>\n",
       "      <td>4</td>\n",
       "      <td>Advanced Service</td>\n",
       "    </tr>\n",
       "  </tbody>\n",
       "</table>\n",
       "</div>"
      ]
     },
     "execution_count": 21,
     "metadata": {},
     "output_type": "execute_result"
    }
   ],
   "execution_count": 21
  },
  {
   "metadata": {
    "ExecuteTime": {
     "end_time": "2024-10-23T19:04:31.747393Z",
     "start_time": "2024-10-23T19:04:31.741243Z"
    }
   },
   "cell_type": "code",
   "source": [
    "from sklearn.preprocessing import LabelEncoder\n",
    "encoders={}\n",
    "columns_to_encode=[\"is_married\",\"is_retired\",\"gender\",\"service\"]\n",
    "#columns_to_encode=[\"is_married\",\"is_retired\",\"gender\"]\n",
    "for col in columns_to_encode:\n",
    "    encoders[col]=LabelEncoder()\n",
    "    data[col]=encoders[col].fit_transform(data[col])"
   ],
   "id": "3234d8645bc8b51b",
   "outputs": [],
   "execution_count": 22
  },
  {
   "metadata": {
    "ExecuteTime": {
     "end_time": "2024-10-23T19:04:33.458192Z",
     "start_time": "2024-10-23T19:04:33.447624Z"
    }
   },
   "cell_type": "code",
   "source": "data.head()",
   "id": "d0eb8a136154cd35",
   "outputs": [
    {
     "data": {
      "text/plain": [
       "   district  customer_since  age  is_married  address  salary  ed  \\\n",
       "0         2              13   44           1        9    64.0   4   \n",
       "1         3              11   33           1        7   136.0   5   \n",
       "2         3              68   52           1       24   116.0   1   \n",
       "3         2              33   33           0       12    33.0   2   \n",
       "4         2              23   30           1        9    30.0   1   \n",
       "\n",
       "   employment_status  is_retired  gender  reside  service  \n",
       "0                  5           0       0       2        3  \n",
       "1                  5           0       0       6        1  \n",
       "2                 29           0       1       2        0  \n",
       "3                  0           0       1       1        3  \n",
       "4                  2           0       0       4        0  "
      ],
      "text/html": [
       "<div>\n",
       "<style scoped>\n",
       "    .dataframe tbody tr th:only-of-type {\n",
       "        vertical-align: middle;\n",
       "    }\n",
       "\n",
       "    .dataframe tbody tr th {\n",
       "        vertical-align: top;\n",
       "    }\n",
       "\n",
       "    .dataframe thead th {\n",
       "        text-align: right;\n",
       "    }\n",
       "</style>\n",
       "<table border=\"1\" class=\"dataframe\">\n",
       "  <thead>\n",
       "    <tr style=\"text-align: right;\">\n",
       "      <th></th>\n",
       "      <th>district</th>\n",
       "      <th>customer_since</th>\n",
       "      <th>age</th>\n",
       "      <th>is_married</th>\n",
       "      <th>address</th>\n",
       "      <th>salary</th>\n",
       "      <th>ed</th>\n",
       "      <th>employment_status</th>\n",
       "      <th>is_retired</th>\n",
       "      <th>gender</th>\n",
       "      <th>reside</th>\n",
       "      <th>service</th>\n",
       "    </tr>\n",
       "  </thead>\n",
       "  <tbody>\n",
       "    <tr>\n",
       "      <th>0</th>\n",
       "      <td>2</td>\n",
       "      <td>13</td>\n",
       "      <td>44</td>\n",
       "      <td>1</td>\n",
       "      <td>9</td>\n",
       "      <td>64.0</td>\n",
       "      <td>4</td>\n",
       "      <td>5</td>\n",
       "      <td>0</td>\n",
       "      <td>0</td>\n",
       "      <td>2</td>\n",
       "      <td>3</td>\n",
       "    </tr>\n",
       "    <tr>\n",
       "      <th>1</th>\n",
       "      <td>3</td>\n",
       "      <td>11</td>\n",
       "      <td>33</td>\n",
       "      <td>1</td>\n",
       "      <td>7</td>\n",
       "      <td>136.0</td>\n",
       "      <td>5</td>\n",
       "      <td>5</td>\n",
       "      <td>0</td>\n",
       "      <td>0</td>\n",
       "      <td>6</td>\n",
       "      <td>1</td>\n",
       "    </tr>\n",
       "    <tr>\n",
       "      <th>2</th>\n",
       "      <td>3</td>\n",
       "      <td>68</td>\n",
       "      <td>52</td>\n",
       "      <td>1</td>\n",
       "      <td>24</td>\n",
       "      <td>116.0</td>\n",
       "      <td>1</td>\n",
       "      <td>29</td>\n",
       "      <td>0</td>\n",
       "      <td>1</td>\n",
       "      <td>2</td>\n",
       "      <td>0</td>\n",
       "    </tr>\n",
       "    <tr>\n",
       "      <th>3</th>\n",
       "      <td>2</td>\n",
       "      <td>33</td>\n",
       "      <td>33</td>\n",
       "      <td>0</td>\n",
       "      <td>12</td>\n",
       "      <td>33.0</td>\n",
       "      <td>2</td>\n",
       "      <td>0</td>\n",
       "      <td>0</td>\n",
       "      <td>1</td>\n",
       "      <td>1</td>\n",
       "      <td>3</td>\n",
       "    </tr>\n",
       "    <tr>\n",
       "      <th>4</th>\n",
       "      <td>2</td>\n",
       "      <td>23</td>\n",
       "      <td>30</td>\n",
       "      <td>1</td>\n",
       "      <td>9</td>\n",
       "      <td>30.0</td>\n",
       "      <td>1</td>\n",
       "      <td>2</td>\n",
       "      <td>0</td>\n",
       "      <td>0</td>\n",
       "      <td>4</td>\n",
       "      <td>0</td>\n",
       "    </tr>\n",
       "  </tbody>\n",
       "</table>\n",
       "</div>"
      ]
     },
     "execution_count": 23,
     "metadata": {},
     "output_type": "execute_result"
    }
   ],
   "execution_count": 23
  },
  {
   "metadata": {
    "ExecuteTime": {
     "end_time": "2024-10-23T19:04:35.415910Z",
     "start_time": "2024-10-23T19:04:35.405229Z"
    }
   },
   "cell_type": "code",
   "source": [
    "shuffled_df=data.sample(frac=1)\n",
    "#shuffled_df = data.sample(frac=1, random_state=42)\n",
    "shuffled_df.head()"
   ],
   "id": "50eb6c5cf23531a7",
   "outputs": [
    {
     "data": {
      "text/plain": [
       "     district  customer_since  age  is_married  address  salary  ed  \\\n",
       "582         2              71   70           0       30   153.0   3   \n",
       "584         3              44   41           0       21    51.0   3   \n",
       "651         3              36   42           0        5    31.0   1   \n",
       "453         3              50   41           0       16   138.0   2   \n",
       "685         3               5   44           1        2    83.0   3   \n",
       "\n",
       "     employment_status  is_retired  gender  reside  service  \n",
       "582                 34           1       1       1        0  \n",
       "584                  7           0       0       1        3  \n",
       "651                  4           0       1       1        3  \n",
       "453                 18           0       1       1        2  \n",
       "685                 14           0       1       3        0  "
      ],
      "text/html": [
       "<div>\n",
       "<style scoped>\n",
       "    .dataframe tbody tr th:only-of-type {\n",
       "        vertical-align: middle;\n",
       "    }\n",
       "\n",
       "    .dataframe tbody tr th {\n",
       "        vertical-align: top;\n",
       "    }\n",
       "\n",
       "    .dataframe thead th {\n",
       "        text-align: right;\n",
       "    }\n",
       "</style>\n",
       "<table border=\"1\" class=\"dataframe\">\n",
       "  <thead>\n",
       "    <tr style=\"text-align: right;\">\n",
       "      <th></th>\n",
       "      <th>district</th>\n",
       "      <th>customer_since</th>\n",
       "      <th>age</th>\n",
       "      <th>is_married</th>\n",
       "      <th>address</th>\n",
       "      <th>salary</th>\n",
       "      <th>ed</th>\n",
       "      <th>employment_status</th>\n",
       "      <th>is_retired</th>\n",
       "      <th>gender</th>\n",
       "      <th>reside</th>\n",
       "      <th>service</th>\n",
       "    </tr>\n",
       "  </thead>\n",
       "  <tbody>\n",
       "    <tr>\n",
       "      <th>582</th>\n",
       "      <td>2</td>\n",
       "      <td>71</td>\n",
       "      <td>70</td>\n",
       "      <td>0</td>\n",
       "      <td>30</td>\n",
       "      <td>153.0</td>\n",
       "      <td>3</td>\n",
       "      <td>34</td>\n",
       "      <td>1</td>\n",
       "      <td>1</td>\n",
       "      <td>1</td>\n",
       "      <td>0</td>\n",
       "    </tr>\n",
       "    <tr>\n",
       "      <th>584</th>\n",
       "      <td>3</td>\n",
       "      <td>44</td>\n",
       "      <td>41</td>\n",
       "      <td>0</td>\n",
       "      <td>21</td>\n",
       "      <td>51.0</td>\n",
       "      <td>3</td>\n",
       "      <td>7</td>\n",
       "      <td>0</td>\n",
       "      <td>0</td>\n",
       "      <td>1</td>\n",
       "      <td>3</td>\n",
       "    </tr>\n",
       "    <tr>\n",
       "      <th>651</th>\n",
       "      <td>3</td>\n",
       "      <td>36</td>\n",
       "      <td>42</td>\n",
       "      <td>0</td>\n",
       "      <td>5</td>\n",
       "      <td>31.0</td>\n",
       "      <td>1</td>\n",
       "      <td>4</td>\n",
       "      <td>0</td>\n",
       "      <td>1</td>\n",
       "      <td>1</td>\n",
       "      <td>3</td>\n",
       "    </tr>\n",
       "    <tr>\n",
       "      <th>453</th>\n",
       "      <td>3</td>\n",
       "      <td>50</td>\n",
       "      <td>41</td>\n",
       "      <td>0</td>\n",
       "      <td>16</td>\n",
       "      <td>138.0</td>\n",
       "      <td>2</td>\n",
       "      <td>18</td>\n",
       "      <td>0</td>\n",
       "      <td>1</td>\n",
       "      <td>1</td>\n",
       "      <td>2</td>\n",
       "    </tr>\n",
       "    <tr>\n",
       "      <th>685</th>\n",
       "      <td>3</td>\n",
       "      <td>5</td>\n",
       "      <td>44</td>\n",
       "      <td>1</td>\n",
       "      <td>2</td>\n",
       "      <td>83.0</td>\n",
       "      <td>3</td>\n",
       "      <td>14</td>\n",
       "      <td>0</td>\n",
       "      <td>1</td>\n",
       "      <td>3</td>\n",
       "      <td>0</td>\n",
       "    </tr>\n",
       "  </tbody>\n",
       "</table>\n",
       "</div>"
      ]
     },
     "execution_count": 24,
     "metadata": {},
     "output_type": "execute_result"
    }
   ],
   "execution_count": 24
  },
  {
   "metadata": {
    "ExecuteTime": {
     "end_time": "2024-10-23T19:04:37.951880Z",
     "start_time": "2024-10-23T19:04:37.947247Z"
    }
   },
   "cell_type": "code",
   "source": [
    "train_ratio=0.8\n",
    "row_number=shuffled_df.shape[0]\n",
    "limit=int(train_ratio*row_number)\n",
    "training_data=shuffled_df[0:limit]\n",
    "test_data=shuffled_df[limit:]"
   ],
   "id": "d6cb9656afc8c67f",
   "outputs": [],
   "execution_count": 25
  },
  {
   "metadata": {
    "ExecuteTime": {
     "end_time": "2024-10-23T19:04:38.896462Z",
     "start_time": "2024-10-23T19:04:38.890331Z"
    }
   },
   "cell_type": "code",
   "source": "training_data.shape",
   "id": "931c93273148403e",
   "outputs": [
    {
     "data": {
      "text/plain": [
       "(800, 12)"
      ]
     },
     "execution_count": 26,
     "metadata": {},
     "output_type": "execute_result"
    }
   ],
   "execution_count": 26
  },
  {
   "metadata": {
    "ExecuteTime": {
     "end_time": "2024-10-23T19:04:39.817187Z",
     "start_time": "2024-10-23T19:04:39.811529Z"
    }
   },
   "cell_type": "code",
   "source": "test_data.shape",
   "id": "3febed9962a16db6",
   "outputs": [
    {
     "data": {
      "text/plain": [
       "(200, 12)"
      ]
     },
     "execution_count": 27,
     "metadata": {},
     "output_type": "execute_result"
    }
   ],
   "execution_count": 27
  },
  {
   "metadata": {
    "ExecuteTime": {
     "end_time": "2024-10-23T19:04:41.138474Z",
     "start_time": "2024-10-23T19:04:41.128830Z"
    }
   },
   "cell_type": "code",
   "source": "test_data.head()",
   "id": "5a245014440aa2b7",
   "outputs": [
    {
     "data": {
      "text/plain": [
       "     district  customer_since  age  is_married  address  salary  ed  \\\n",
       "970         3              48   45           0       15    41.0   1   \n",
       "488         1              72   55           1       28    40.0   1   \n",
       "990         1              50   43           0        6    27.0   3   \n",
       "243         3              43   21           1        1    25.0   1   \n",
       "151         1              57   37           0       11   108.0   4   \n",
       "\n",
       "     employment_status  is_retired  gender  reside  service  \n",
       "970                 10           0       1       2        3  \n",
       "488                 11           0       0       5        2  \n",
       "990                  4           0       0       1        0  \n",
       "243                  4           0       0       4        2  \n",
       "151                  9           0       1       1        0  "
      ],
      "text/html": [
       "<div>\n",
       "<style scoped>\n",
       "    .dataframe tbody tr th:only-of-type {\n",
       "        vertical-align: middle;\n",
       "    }\n",
       "\n",
       "    .dataframe tbody tr th {\n",
       "        vertical-align: top;\n",
       "    }\n",
       "\n",
       "    .dataframe thead th {\n",
       "        text-align: right;\n",
       "    }\n",
       "</style>\n",
       "<table border=\"1\" class=\"dataframe\">\n",
       "  <thead>\n",
       "    <tr style=\"text-align: right;\">\n",
       "      <th></th>\n",
       "      <th>district</th>\n",
       "      <th>customer_since</th>\n",
       "      <th>age</th>\n",
       "      <th>is_married</th>\n",
       "      <th>address</th>\n",
       "      <th>salary</th>\n",
       "      <th>ed</th>\n",
       "      <th>employment_status</th>\n",
       "      <th>is_retired</th>\n",
       "      <th>gender</th>\n",
       "      <th>reside</th>\n",
       "      <th>service</th>\n",
       "    </tr>\n",
       "  </thead>\n",
       "  <tbody>\n",
       "    <tr>\n",
       "      <th>970</th>\n",
       "      <td>3</td>\n",
       "      <td>48</td>\n",
       "      <td>45</td>\n",
       "      <td>0</td>\n",
       "      <td>15</td>\n",
       "      <td>41.0</td>\n",
       "      <td>1</td>\n",
       "      <td>10</td>\n",
       "      <td>0</td>\n",
       "      <td>1</td>\n",
       "      <td>2</td>\n",
       "      <td>3</td>\n",
       "    </tr>\n",
       "    <tr>\n",
       "      <th>488</th>\n",
       "      <td>1</td>\n",
       "      <td>72</td>\n",
       "      <td>55</td>\n",
       "      <td>1</td>\n",
       "      <td>28</td>\n",
       "      <td>40.0</td>\n",
       "      <td>1</td>\n",
       "      <td>11</td>\n",
       "      <td>0</td>\n",
       "      <td>0</td>\n",
       "      <td>5</td>\n",
       "      <td>2</td>\n",
       "    </tr>\n",
       "    <tr>\n",
       "      <th>990</th>\n",
       "      <td>1</td>\n",
       "      <td>50</td>\n",
       "      <td>43</td>\n",
       "      <td>0</td>\n",
       "      <td>6</td>\n",
       "      <td>27.0</td>\n",
       "      <td>3</td>\n",
       "      <td>4</td>\n",
       "      <td>0</td>\n",
       "      <td>0</td>\n",
       "      <td>1</td>\n",
       "      <td>0</td>\n",
       "    </tr>\n",
       "    <tr>\n",
       "      <th>243</th>\n",
       "      <td>3</td>\n",
       "      <td>43</td>\n",
       "      <td>21</td>\n",
       "      <td>1</td>\n",
       "      <td>1</td>\n",
       "      <td>25.0</td>\n",
       "      <td>1</td>\n",
       "      <td>4</td>\n",
       "      <td>0</td>\n",
       "      <td>0</td>\n",
       "      <td>4</td>\n",
       "      <td>2</td>\n",
       "    </tr>\n",
       "    <tr>\n",
       "      <th>151</th>\n",
       "      <td>1</td>\n",
       "      <td>57</td>\n",
       "      <td>37</td>\n",
       "      <td>0</td>\n",
       "      <td>11</td>\n",
       "      <td>108.0</td>\n",
       "      <td>4</td>\n",
       "      <td>9</td>\n",
       "      <td>0</td>\n",
       "      <td>1</td>\n",
       "      <td>1</td>\n",
       "      <td>0</td>\n",
       "    </tr>\n",
       "  </tbody>\n",
       "</table>\n",
       "</div>"
      ]
     },
     "execution_count": 28,
     "metadata": {},
     "output_type": "execute_result"
    }
   ],
   "execution_count": 28
  },
  {
   "metadata": {
    "ExecuteTime": {
     "end_time": "2024-10-23T19:04:42.691939Z",
     "start_time": "2024-10-23T19:04:42.684838Z"
    }
   },
   "cell_type": "code",
   "source": "test_data.dtypes",
   "id": "fdafc35727c3f491",
   "outputs": [
    {
     "data": {
      "text/plain": [
       "district               int64\n",
       "customer_since         int64\n",
       "age                    int64\n",
       "is_married             int32\n",
       "address                int64\n",
       "salary               float64\n",
       "ed                     int64\n",
       "employment_status      int64\n",
       "is_retired             int32\n",
       "gender                 int32\n",
       "reside                 int64\n",
       "service                int32\n",
       "dtype: object"
      ]
     },
     "execution_count": 29,
     "metadata": {},
     "output_type": "execute_result"
    }
   ],
   "execution_count": 29
  },
  {
   "metadata": {
    "ExecuteTime": {
     "end_time": "2024-10-23T19:04:45.791334Z",
     "start_time": "2024-10-23T19:04:45.783650Z"
    }
   },
   "cell_type": "code",
   "source": "training_data.dtypes",
   "id": "2ec6be32a1d8ce",
   "outputs": [
    {
     "data": {
      "text/plain": [
       "district               int64\n",
       "customer_since         int64\n",
       "age                    int64\n",
       "is_married             int32\n",
       "address                int64\n",
       "salary               float64\n",
       "ed                     int64\n",
       "employment_status      int64\n",
       "is_retired             int32\n",
       "gender                 int32\n",
       "reside                 int64\n",
       "service                int32\n",
       "dtype: object"
      ]
     },
     "execution_count": 30,
     "metadata": {},
     "output_type": "execute_result"
    }
   ],
   "execution_count": 30
  },
  {
   "metadata": {
    "ExecuteTime": {
     "end_time": "2024-10-23T19:04:47.644054Z",
     "start_time": "2024-10-23T19:04:47.638452Z"
    }
   },
   "cell_type": "code",
   "source": [
    "import math\n",
    "def euclidian_distance(p1,p2):\n",
    "    dist=0\n",
    "    for i in range(len(p1)-1):\n",
    "        dist += (float(p1[i]) - float(p2[i])) ** 2\n",
    "    dist=math.sqrt(dist)\n",
    "    return dist"
   ],
   "id": "549b8431d540aa2f",
   "outputs": [],
   "execution_count": 31
  },
  {
   "metadata": {
    "ExecuteTime": {
     "end_time": "2024-10-23T19:04:49.038680Z",
     "start_time": "2024-10-23T19:04:49.033199Z"
    }
   },
   "cell_type": "code",
   "source": [
    "def find_neighbor(train,test,k):\n",
    "    distance_list=[]\n",
    "    for i in train:\n",
    "        dist=euclidian_distance(i[:-1], test[:-1])\n",
    "        distance_list.append((i,dist))\n",
    "    distance_list.sort(key=lambda x:x[1])\n",
    "    nearest_neighbors=distance_list[:k]\n",
    "    return nearest_neighbors"
   ],
   "id": "4eb0467bd9b772cb",
   "outputs": [],
   "execution_count": 32
  },
  {
   "metadata": {
    "ExecuteTime": {
     "end_time": "2024-10-23T19:04:50.250478Z",
     "start_time": "2024-10-23T19:04:50.246197Z"
    }
   },
   "cell_type": "code",
   "source": [
    "def classification(train,test,k):\n",
    "    nearest_neighbors=find_neighbor(train,test,k)\n",
    "    targets=[neighbor[0][-1] for neighbor in nearest_neighbors]\n",
    "    predicted_result=max(set(targets),key=targets.count)\n",
    "    return predicted_result"
   ],
   "id": "1b1c739058b0b423",
   "outputs": [],
   "execution_count": 33
  },
  {
   "metadata": {
    "ExecuteTime": {
     "end_time": "2024-10-23T19:04:51.457550Z",
     "start_time": "2024-10-23T19:04:51.452677Z"
    }
   },
   "cell_type": "code",
   "source": [
    "def knn(train,test,k):\n",
    "    prediction_list=[]\n",
    "    for test_row in test:\n",
    "        target=classification(train,test_row,k)\n",
    "        prediction_list.append(target)\n",
    "    return prediction_list"
   ],
   "id": "355efb231d98f80a",
   "outputs": [],
   "execution_count": 34
  },
  {
   "metadata": {
    "ExecuteTime": {
     "end_time": "2024-10-23T19:04:53.039552Z",
     "start_time": "2024-10-23T19:04:53.033302Z"
    }
   },
   "cell_type": "code",
   "source": [
    "test_data_values=test_data.values.tolist()\n",
    "train_data_values=training_data.values.tolist()\n"
   ],
   "id": "9221839f31d2b65a",
   "outputs": [],
   "execution_count": 35
  },
  {
   "metadata": {
    "ExecuteTime": {
     "end_time": "2024-10-23T19:04:54.535374Z",
     "start_time": "2024-10-23T19:04:54.530442Z"
    }
   },
   "cell_type": "code",
   "source": [
    "def calculate_accuracy(actual,predicted):\n",
    "    correct_predictions=0\n",
    "    for i in range(len(actual)):\n",
    "        true_label=actual[i][-1]\n",
    "        predicted_label=predicted[i]\n",
    "        if true_label==predicted_label:\n",
    "            correct_predictions=correct_predictions+1\n",
    "    accuracy=correct_predictions/len(actual)\n",
    "    return accuracy\n"
   ],
   "id": "583bf62bed08a0c2",
   "outputs": [],
   "execution_count": 36
  },
  {
   "metadata": {
    "ExecuteTime": {
     "end_time": "2024-10-23T19:04:55.616290Z",
     "start_time": "2024-10-23T19:04:55.610915Z"
    }
   },
   "cell_type": "code",
   "source": [
    "def calculate_precision(actual,predicted,positive_class):\n",
    "    tp=0\n",
    "    fp=0\n",
    "    for i in range(len(actual)):\n",
    "        true_label=actual[i][-1]\n",
    "        predicted_label=predicted[i]\n",
    "        if predicted_label==positive_class:\n",
    "            if true_label==positive_class:\n",
    "                tp+=1\n",
    "            else:\n",
    "                fp+=1\n",
    "    if tp+fp>0:\n",
    "        precision=tp/(tp+fp)\n",
    "    else:\n",
    "        precision=0\n",
    "    return precision"
   ],
   "id": "2c444565ae8aa8d7",
   "outputs": [],
   "execution_count": 37
  },
  {
   "metadata": {
    "ExecuteTime": {
     "end_time": "2024-10-23T19:04:58.380602Z",
     "start_time": "2024-10-23T19:04:58.375414Z"
    }
   },
   "cell_type": "code",
   "source": [
    "def calculate_recall(actual,predicted,positive_class):\n",
    "    true_positive=0\n",
    "    false_negative=0\n",
    "    recall=0\n",
    "    for i in range(len(actual)):\n",
    "        true_label=actual[i][-1]\n",
    "        predicted_label=predicted[i]\n",
    "        if true_label == positive_class:\n",
    "            if predicted_label == positive_class:\n",
    "                true_positive += 1\n",
    "            else:\n",
    "                false_negative += 1\n",
    "    if true_positive + false_negative > 0:\n",
    "        recall = true_positive / (true_positive + false_negative)\n",
    "    return recall\n",
    "\n"
   ],
   "id": "75383e6d3a885c62",
   "outputs": [],
   "execution_count": 38
  },
  {
   "metadata": {
    "ExecuteTime": {
     "end_time": "2024-10-23T19:06:11.242920Z",
     "start_time": "2024-10-23T19:06:11.239152Z"
    }
   },
   "cell_type": "code",
   "source": "print(\"KNN With Normal Data Is Below:\")",
   "id": "9a417380066ba9ec",
   "outputs": [
    {
     "name": "stdout",
     "output_type": "stream",
     "text": [
      "KNN With Normal Data Is Below:\n"
     ]
    }
   ],
   "execution_count": 39
  },
  {
   "metadata": {
    "ExecuteTime": {
     "end_time": "2024-10-23T19:07:17.075092Z",
     "start_time": "2024-10-23T19:07:12.735304Z"
    }
   },
   "cell_type": "code",
   "source": [
    "k_values_to_test=[1,3,5,7,9,11,13,15,17,19]\n",
    "best_accuracy=0\n",
    "best_k=0\n",
    "for k in k_values_to_test:\n",
    "    predictions=knn(train_data_values, test_data_values, k)\n",
    "    for i in range (4):\n",
    "        accuracy=calculate_accuracy(test_data_values, predictions)\n",
    "        precission=calculate_precision(test_data_values, predictions, positive_class=i)\n",
    "        recall=calculate_recall(test_data_values, predictions, positive_class=i)\n",
    "        print(f'For positive class= {i} and k={k} : Accuracy: {accuracy}, Precision: {precission}, Recall: {recall}')\n",
    "    if best_accuracy<accuracy:\n",
    "        best_accuracy=accuracy\n",
    "        best_k=k\n",
    "    print(\"*************************\")"
   ],
   "id": "29a60fd7ced9e5fb",
   "outputs": [
    {
     "name": "stdout",
     "output_type": "stream",
     "text": [
      "For positive class= 0 and k=1 : Accuracy: 0.26, Precision: 0.3333333333333333, Recall: 0.3508771929824561\n",
      "For positive class= 1 and k=1 : Accuracy: 0.26, Precision: 0.2, Recall: 0.20454545454545456\n",
      "For positive class= 2 and k=1 : Accuracy: 0.26, Precision: 0.20512820512820512, Recall: 0.17391304347826086\n",
      "For positive class= 3 and k=1 : Accuracy: 0.26, Precision: 0.26785714285714285, Recall: 0.2830188679245283\n",
      "*************************\n",
      "For positive class= 0 and k=3 : Accuracy: 0.305, Precision: 0.34375, Recall: 0.5789473684210527\n",
      "For positive class= 1 and k=3 : Accuracy: 0.305, Precision: 0.23076923076923078, Recall: 0.20454545454545456\n",
      "For positive class= 2 and k=3 : Accuracy: 0.305, Precision: 0.20833333333333334, Recall: 0.10869565217391304\n",
      "For positive class= 3 and k=3 : Accuracy: 0.305, Precision: 0.34146341463414637, Recall: 0.2641509433962264\n",
      "*************************\n",
      "For positive class= 0 and k=5 : Accuracy: 0.325, Precision: 0.2926829268292683, Recall: 0.42105263157894735\n",
      "For positive class= 1 and k=5 : Accuracy: 0.325, Precision: 0.30952380952380953, Recall: 0.29545454545454547\n",
      "For positive class= 2 and k=5 : Accuracy: 0.325, Precision: 0.35135135135135137, Recall: 0.2826086956521739\n",
      "For positive class= 3 and k=5 : Accuracy: 0.325, Precision: 0.38461538461538464, Recall: 0.2830188679245283\n",
      "*************************\n",
      "For positive class= 0 and k=7 : Accuracy: 0.38, Precision: 0.3835616438356164, Recall: 0.49122807017543857\n",
      "For positive class= 1 and k=7 : Accuracy: 0.38, Precision: 0.3170731707317073, Recall: 0.29545454545454547\n",
      "For positive class= 2 and k=7 : Accuracy: 0.38, Precision: 0.40540540540540543, Recall: 0.32608695652173914\n",
      "For positive class= 3 and k=7 : Accuracy: 0.38, Precision: 0.40816326530612246, Recall: 0.37735849056603776\n",
      "*************************\n",
      "For positive class= 0 and k=9 : Accuracy: 0.395, Precision: 0.38028169014084506, Recall: 0.47368421052631576\n",
      "For positive class= 1 and k=9 : Accuracy: 0.395, Precision: 0.3902439024390244, Recall: 0.36363636363636365\n",
      "For positive class= 2 and k=9 : Accuracy: 0.395, Precision: 0.2926829268292683, Recall: 0.2608695652173913\n",
      "For positive class= 3 and k=9 : Accuracy: 0.395, Precision: 0.5106382978723404, Recall: 0.4528301886792453\n",
      "*************************\n",
      "For positive class= 0 and k=11 : Accuracy: 0.365, Precision: 0.3333333333333333, Recall: 0.40350877192982454\n",
      "For positive class= 1 and k=11 : Accuracy: 0.365, Precision: 0.42857142857142855, Recall: 0.4090909090909091\n",
      "For positive class= 2 and k=11 : Accuracy: 0.365, Precision: 0.28205128205128205, Recall: 0.2391304347826087\n",
      "For positive class= 3 and k=11 : Accuracy: 0.365, Precision: 0.42, Recall: 0.39622641509433965\n",
      "*************************\n",
      "For positive class= 0 and k=13 : Accuracy: 0.37, Precision: 0.3382352941176471, Recall: 0.40350877192982454\n",
      "For positive class= 1 and k=13 : Accuracy: 0.37, Precision: 0.37209302325581395, Recall: 0.36363636363636365\n",
      "For positive class= 2 and k=13 : Accuracy: 0.37, Precision: 0.3, Recall: 0.2608695652173913\n",
      "For positive class= 3 and k=13 : Accuracy: 0.37, Precision: 0.46938775510204084, Recall: 0.4339622641509434\n",
      "*************************\n",
      "For positive class= 0 and k=15 : Accuracy: 0.355, Precision: 0.296875, Recall: 0.3333333333333333\n",
      "For positive class= 1 and k=15 : Accuracy: 0.355, Precision: 0.3684210526315789, Recall: 0.3181818181818182\n",
      "For positive class= 2 and k=15 : Accuracy: 0.355, Precision: 0.30952380952380953, Recall: 0.2826086956521739\n",
      "For positive class= 3 and k=15 : Accuracy: 0.355, Precision: 0.44642857142857145, Recall: 0.4716981132075472\n",
      "*************************\n",
      "For positive class= 0 and k=17 : Accuracy: 0.355, Precision: 0.3333333333333333, Recall: 0.40350877192982454\n",
      "For positive class= 1 and k=17 : Accuracy: 0.355, Precision: 0.3333333333333333, Recall: 0.29545454545454547\n",
      "For positive class= 2 and k=17 : Accuracy: 0.355, Precision: 0.3157894736842105, Recall: 0.2608695652173913\n",
      "For positive class= 3 and k=17 : Accuracy: 0.355, Precision: 0.42592592592592593, Recall: 0.4339622641509434\n",
      "*************************\n",
      "For positive class= 0 and k=19 : Accuracy: 0.37, Precision: 0.32432432432432434, Recall: 0.42105263157894735\n",
      "For positive class= 1 and k=19 : Accuracy: 0.37, Precision: 0.4, Recall: 0.3181818181818182\n",
      "For positive class= 2 and k=19 : Accuracy: 0.37, Precision: 0.4, Recall: 0.30434782608695654\n",
      "For positive class= 3 and k=19 : Accuracy: 0.37, Precision: 0.39285714285714285, Recall: 0.41509433962264153\n",
      "*************************\n"
     ]
    }
   ],
   "execution_count": 40
  },
  {
   "metadata": {
    "ExecuteTime": {
     "end_time": "2024-10-23T19:07:53.357375Z",
     "start_time": "2024-10-23T19:07:53.353897Z"
    }
   },
   "cell_type": "code",
   "source": "print(f'For knn with normal data, highest accuracy: {best_accuracy} with k={best_k}')",
   "id": "7b3ca6ccf403e83b",
   "outputs": [
    {
     "name": "stdout",
     "output_type": "stream",
     "text": [
      "For knn with normal data, highest accuracy: 0.395 with k=9\n"
     ]
    }
   ],
   "execution_count": 41
  },
  {
   "metadata": {
    "ExecuteTime": {
     "end_time": "2024-10-23T19:08:01.667860Z",
     "start_time": "2024-10-23T19:08:01.656788Z"
    }
   },
   "cell_type": "code",
   "source": [
    "eliminated_data_train=training_data.copy()\n",
    "columns_to_delete=[\"district\",\"address\",\"reside\",\"gender\",\"is_married\",\"is_retired\",\"customer_since\"]\n",
    "for col in columns_to_delete:\n",
    "    if col in eliminated_data_train.columns:\n",
    "        eliminated_data_train.drop(col, axis=1, inplace=True)\n",
    "eliminated_data_train_values=eliminated_data_train.values.tolist()"
   ],
   "id": "cb36fbdf37bc1a44",
   "outputs": [],
   "execution_count": 42
  },
  {
   "metadata": {
    "ExecuteTime": {
     "end_time": "2024-10-23T19:08:03.618570Z",
     "start_time": "2024-10-23T19:08:03.609146Z"
    }
   },
   "cell_type": "code",
   "source": [
    "eliminated_data_test=test_data.copy()\n",
    "for col in columns_to_delete:\n",
    "    if col in eliminated_data_test.columns:\n",
    "        eliminated_data_test.drop(col, axis=1, inplace=True)\n",
    "eliminated_data_test_values=eliminated_data_test.values.tolist()"
   ],
   "id": "549c09aa6068f189",
   "outputs": [],
   "execution_count": 43
  },
  {
   "metadata": {
    "ExecuteTime": {
     "end_time": "2024-10-23T19:09:06.164114Z",
     "start_time": "2024-10-23T19:09:06.160041Z"
    }
   },
   "cell_type": "code",
   "source": "print(\"KNN With Eliminated Data Is Below:\")",
   "id": "37fa50e46cd7a563",
   "outputs": [
    {
     "name": "stdout",
     "output_type": "stream",
     "text": [
      "KNN With Eliminated Data Is Below:\n"
     ]
    }
   ],
   "execution_count": 45
  },
  {
   "metadata": {
    "ExecuteTime": {
     "end_time": "2024-10-23T19:08:51.137265Z",
     "start_time": "2024-10-23T19:08:48.730370Z"
    }
   },
   "cell_type": "code",
   "source": [
    "best_accuracy=0\n",
    "best_k=0\n",
    "for k in k_values_to_test:\n",
    "    predictions=knn(eliminated_data_train_values, eliminated_data_test_values, k)\n",
    "    for i in range (4):\n",
    "        accuracy=calculate_accuracy(test_data_values, predictions)\n",
    "        precission=calculate_precision(test_data_values, predictions, positive_class=i)\n",
    "        recall=calculate_recall(test_data_values, predictions, positive_class=i)\n",
    "        print(f'For positive class= {i} and k={k} : Accuracy: {accuracy}, Precision: {precission}, Recall: {recall}')\n",
    "    if best_accuracy<accuracy:\n",
    "        best_accuracy=accuracy\n",
    "        best_k=k\n",
    "    print(\"*************************\")"
   ],
   "id": "31796754bc80ed7d",
   "outputs": [
    {
     "name": "stdout",
     "output_type": "stream",
     "text": [
      "For positive class= 0 and k=1 : Accuracy: 0.305, Precision: 0.27692307692307694, Recall: 0.3157894736842105\n",
      "For positive class= 1 and k=1 : Accuracy: 0.305, Precision: 0.3269230769230769, Recall: 0.38636363636363635\n",
      "For positive class= 2 and k=1 : Accuracy: 0.305, Precision: 0.2222222222222222, Recall: 0.17391304347826086\n",
      "For positive class= 3 and k=1 : Accuracy: 0.305, Precision: 0.3829787234042553, Recall: 0.33962264150943394\n",
      "*************************\n",
      "For positive class= 0 and k=3 : Accuracy: 0.315, Precision: 0.3010752688172043, Recall: 0.49122807017543857\n",
      "For positive class= 1 and k=3 : Accuracy: 0.315, Precision: 0.3, Recall: 0.3409090909090909\n",
      "For positive class= 2 and k=3 : Accuracy: 0.315, Precision: 0.4375, Recall: 0.15217391304347827\n",
      "For positive class= 3 and k=3 : Accuracy: 0.315, Precision: 0.3170731707317073, Recall: 0.24528301886792453\n",
      "*************************\n",
      "For positive class= 0 and k=5 : Accuracy: 0.33, Precision: 0.3291139240506329, Recall: 0.45614035087719296\n",
      "For positive class= 1 and k=5 : Accuracy: 0.33, Precision: 0.35555555555555557, Recall: 0.36363636363636365\n",
      "For positive class= 2 and k=5 : Accuracy: 0.33, Precision: 0.35714285714285715, Recall: 0.21739130434782608\n",
      "For positive class= 3 and k=5 : Accuracy: 0.33, Precision: 0.2916666666666667, Recall: 0.2641509433962264\n",
      "*************************\n",
      "For positive class= 0 and k=7 : Accuracy: 0.325, Precision: 0.31645569620253167, Recall: 0.43859649122807015\n",
      "For positive class= 1 and k=7 : Accuracy: 0.325, Precision: 0.37735849056603776, Recall: 0.45454545454545453\n",
      "For positive class= 2 and k=7 : Accuracy: 0.325, Precision: 0.3157894736842105, Recall: 0.13043478260869565\n",
      "For positive class= 3 and k=7 : Accuracy: 0.325, Precision: 0.2857142857142857, Recall: 0.2641509433962264\n",
      "*************************\n",
      "For positive class= 0 and k=9 : Accuracy: 0.325, Precision: 0.3375, Recall: 0.47368421052631576\n",
      "For positive class= 1 and k=9 : Accuracy: 0.325, Precision: 0.32608695652173914, Recall: 0.3409090909090909\n",
      "For positive class= 2 and k=9 : Accuracy: 0.325, Precision: 0.3157894736842105, Recall: 0.13043478260869565\n",
      "For positive class= 3 and k=9 : Accuracy: 0.325, Precision: 0.3090909090909091, Recall: 0.32075471698113206\n",
      "*************************\n",
      "For positive class= 0 and k=11 : Accuracy: 0.32, Precision: 0.32051282051282054, Recall: 0.43859649122807015\n",
      "For positive class= 1 and k=11 : Accuracy: 0.32, Precision: 0.37777777777777777, Recall: 0.38636363636363635\n",
      "For positive class= 2 and k=11 : Accuracy: 0.32, Precision: 0.2727272727272727, Recall: 0.13043478260869565\n",
      "For positive class= 3 and k=11 : Accuracy: 0.32, Precision: 0.2909090909090909, Recall: 0.3018867924528302\n",
      "*************************\n",
      "For positive class= 0 and k=13 : Accuracy: 0.335, Precision: 0.3170731707317073, Recall: 0.45614035087719296\n",
      "For positive class= 1 and k=13 : Accuracy: 0.335, Precision: 0.41025641025641024, Recall: 0.36363636363636365\n",
      "For positive class= 2 and k=13 : Accuracy: 0.335, Precision: 0.3333333333333333, Recall: 0.17391304347826086\n",
      "For positive class= 3 and k=13 : Accuracy: 0.335, Precision: 0.3090909090909091, Recall: 0.32075471698113206\n",
      "*************************\n",
      "For positive class= 0 and k=15 : Accuracy: 0.315, Precision: 0.30120481927710846, Recall: 0.43859649122807015\n",
      "For positive class= 1 and k=15 : Accuracy: 0.315, Precision: 0.3611111111111111, Recall: 0.29545454545454547\n",
      "For positive class= 2 and k=15 : Accuracy: 0.315, Precision: 0.3333333333333333, Recall: 0.17391304347826086\n",
      "For positive class= 3 and k=15 : Accuracy: 0.315, Precision: 0.2982456140350877, Recall: 0.32075471698113206\n",
      "*************************\n",
      "For positive class= 0 and k=17 : Accuracy: 0.325, Precision: 0.32941176470588235, Recall: 0.49122807017543857\n",
      "For positive class= 1 and k=17 : Accuracy: 0.325, Precision: 0.3333333333333333, Recall: 0.2727272727272727\n",
      "For positive class= 2 and k=17 : Accuracy: 0.325, Precision: 0.3333333333333333, Recall: 0.1956521739130435\n",
      "For positive class= 3 and k=17 : Accuracy: 0.325, Precision: 0.3076923076923077, Recall: 0.3018867924528302\n",
      "*************************\n",
      "For positive class= 0 and k=19 : Accuracy: 0.29, Precision: 0.2857142857142857, Recall: 0.42105263157894735\n",
      "For positive class= 1 and k=19 : Accuracy: 0.29, Precision: 0.32432432432432434, Recall: 0.2727272727272727\n",
      "For positive class= 2 and k=19 : Accuracy: 0.29, Precision: 0.30434782608695654, Recall: 0.15217391304347827\n",
      "For positive class= 3 and k=19 : Accuracy: 0.29, Precision: 0.26785714285714285, Recall: 0.2830188679245283\n",
      "*************************\n"
     ]
    }
   ],
   "execution_count": 44
  },
  {
   "metadata": {
    "ExecuteTime": {
     "end_time": "2024-10-23T19:09:45.444842Z",
     "start_time": "2024-10-23T19:09:45.440057Z"
    }
   },
   "cell_type": "code",
   "source": "print(f'For knn with eliminated data, highest accuracy: {best_accuracy} with k={best_k}')",
   "id": "ef2c53f249157860",
   "outputs": [
    {
     "name": "stdout",
     "output_type": "stream",
     "text": [
      "For knn with eliminated data, highest accuracy: 0.335 with k=13\n"
     ]
    }
   ],
   "execution_count": 46
  },
  {
   "metadata": {
    "ExecuteTime": {
     "end_time": "2024-10-23T19:09:53.264849Z",
     "start_time": "2024-10-23T19:09:53.254761Z"
    }
   },
   "cell_type": "code",
   "source": [
    "not_scaled_col=\"service\"\n",
    "scaled_data_train=training_data.copy()\n",
    "for col in scaled_data_train:\n",
    "    if col!=not_scaled_col:\n",
    "        minimum_val=training_data[col].min()\n",
    "        maximum_val=training_data[col].max()\n",
    "        scaled_data_train[col]=(training_data[col] - minimum_val)/(maximum_val-minimum_val)\n"
   ],
   "id": "53f6b28b8f249a65",
   "outputs": [],
   "execution_count": 47
  },
  {
   "metadata": {
    "ExecuteTime": {
     "end_time": "2024-10-23T19:09:54.210917Z",
     "start_time": "2024-10-23T19:09:54.199666Z"
    }
   },
   "cell_type": "code",
   "source": [
    "scaled_data_test=test_data.copy()\n",
    "for col in scaled_data_test:\n",
    "    if col!=not_scaled_col:\n",
    "        minimum_val=test_data[col].min()\n",
    "        maximum_val=test_data[col].max()\n",
    "        scaled_data_test[col]=(test_data[col] - minimum_val)/(maximum_val-minimum_val)"
   ],
   "id": "fb7b492f78bdf619",
   "outputs": [],
   "execution_count": 48
  },
  {
   "metadata": {
    "ExecuteTime": {
     "end_time": "2024-10-23T19:10:10.448384Z",
     "start_time": "2024-10-23T19:10:10.443674Z"
    }
   },
   "cell_type": "code",
   "source": "print(\"KNN With Scaled Data Is Below:\")",
   "id": "78a483f30025123d",
   "outputs": [
    {
     "name": "stdout",
     "output_type": "stream",
     "text": [
      "KNN With Scaled Data Is Below:\n"
     ]
    }
   ],
   "execution_count": 49
  },
  {
   "metadata": {
    "ExecuteTime": {
     "end_time": "2024-10-23T19:11:03.799530Z",
     "start_time": "2024-10-23T19:10:59.351964Z"
    }
   },
   "cell_type": "code",
   "source": [
    "scaled_data_train_values=scaled_data_train.values.tolist()\n",
    "scaled_data_test_values=scaled_data_test.values.tolist()\n",
    "best_accuracy=0\n",
    "best_k=0\n",
    "for k in k_values_to_test:\n",
    "    predictions=knn(scaled_data_train_values, scaled_data_test_values, k)\n",
    "    for i in range (4):\n",
    "        accuracy=calculate_accuracy(scaled_data_test_values, predictions)\n",
    "        precission=calculate_precision(scaled_data_test_values, predictions, positive_class=i)\n",
    "        recall=calculate_recall(scaled_data_test_values, predictions, positive_class=i)\n",
    "        print(f'For positive class= {i} and k={k} : Accuracy: {accuracy}, Precision: {precission}, Recall: {recall}')\n",
    "    if best_accuracy<accuracy:\n",
    "        best_accuracy=accuracy\n",
    "        best_k=k\n",
    "    print(\"*************************\")"
   ],
   "id": "4b2c86b2c4e003c1",
   "outputs": [
    {
     "name": "stdout",
     "output_type": "stream",
     "text": [
      "For positive class= 0 and k=1 : Accuracy: 0.31, Precision: 0.3559322033898305, Recall: 0.3684210526315789\n",
      "For positive class= 1 and k=1 : Accuracy: 0.31, Precision: 0.28, Recall: 0.3181818181818182\n",
      "For positive class= 2 and k=1 : Accuracy: 0.31, Precision: 0.2222222222222222, Recall: 0.21739130434782608\n",
      "For positive class= 3 and k=1 : Accuracy: 0.31, Precision: 0.3695652173913043, Recall: 0.32075471698113206\n",
      "*************************\n",
      "For positive class= 0 and k=3 : Accuracy: 0.295, Precision: 0.33636363636363636, Recall: 0.6491228070175439\n",
      "For positive class= 1 and k=3 : Accuracy: 0.295, Precision: 0.23255813953488372, Recall: 0.22727272727272727\n",
      "For positive class= 2 and k=3 : Accuracy: 0.295, Precision: 0.15789473684210525, Recall: 0.06521739130434782\n",
      "For positive class= 3 and k=3 : Accuracy: 0.295, Precision: 0.32142857142857145, Recall: 0.16981132075471697\n",
      "*************************\n",
      "For positive class= 0 and k=5 : Accuracy: 0.335, Precision: 0.3684210526315789, Recall: 0.6140350877192983\n",
      "For positive class= 1 and k=5 : Accuracy: 0.335, Precision: 0.36538461538461536, Recall: 0.4318181818181818\n",
      "For positive class= 2 and k=5 : Accuracy: 0.335, Precision: 0.2, Recall: 0.10869565217391304\n",
      "For positive class= 3 and k=5 : Accuracy: 0.335, Precision: 0.2857142857142857, Recall: 0.1509433962264151\n",
      "*************************\n",
      "For positive class= 0 and k=7 : Accuracy: 0.33, Precision: 0.36046511627906974, Recall: 0.543859649122807\n",
      "For positive class= 1 and k=7 : Accuracy: 0.33, Precision: 0.35714285714285715, Recall: 0.45454545454545453\n",
      "For positive class= 2 and k=7 : Accuracy: 0.33, Precision: 0.1724137931034483, Recall: 0.10869565217391304\n",
      "For positive class= 3 and k=7 : Accuracy: 0.33, Precision: 0.3448275862068966, Recall: 0.18867924528301888\n",
      "*************************\n",
      "For positive class= 0 and k=9 : Accuracy: 0.325, Precision: 0.37037037037037035, Recall: 0.5263157894736842\n",
      "For positive class= 1 and k=9 : Accuracy: 0.325, Precision: 0.3220338983050847, Recall: 0.4318181818181818\n",
      "For positive class= 2 and k=9 : Accuracy: 0.325, Precision: 0.11538461538461539, Recall: 0.06521739130434782\n",
      "For positive class= 3 and k=9 : Accuracy: 0.325, Precision: 0.38235294117647056, Recall: 0.24528301886792453\n",
      "*************************\n",
      "For positive class= 0 and k=11 : Accuracy: 0.32, Precision: 0.3372093023255814, Recall: 0.5087719298245614\n",
      "For positive class= 1 and k=11 : Accuracy: 0.32, Precision: 0.32142857142857145, Recall: 0.4090909090909091\n",
      "For positive class= 2 and k=11 : Accuracy: 0.32, Precision: 0.14285714285714285, Recall: 0.08695652173913043\n",
      "For positive class= 3 and k=11 : Accuracy: 0.32, Precision: 0.43333333333333335, Recall: 0.24528301886792453\n",
      "*************************\n",
      "For positive class= 0 and k=13 : Accuracy: 0.33, Precision: 0.35365853658536583, Recall: 0.5087719298245614\n",
      "For positive class= 1 and k=13 : Accuracy: 0.33, Precision: 0.3333333333333333, Recall: 0.4090909090909091\n",
      "For positive class= 2 and k=13 : Accuracy: 0.33, Precision: 0.2, Recall: 0.13043478260869565\n",
      "For positive class= 3 and k=13 : Accuracy: 0.33, Precision: 0.38235294117647056, Recall: 0.24528301886792453\n",
      "*************************\n",
      "For positive class= 0 and k=15 : Accuracy: 0.34, Precision: 0.3902439024390244, Recall: 0.5614035087719298\n",
      "For positive class= 1 and k=15 : Accuracy: 0.34, Precision: 0.3333333333333333, Recall: 0.4090909090909091\n",
      "For positive class= 2 and k=15 : Accuracy: 0.34, Precision: 0.1111111111111111, Recall: 0.06521739130434782\n",
      "For positive class= 3 and k=15 : Accuracy: 0.34, Precision: 0.40540540540540543, Recall: 0.2830188679245283\n",
      "*************************\n",
      "For positive class= 0 and k=17 : Accuracy: 0.37, Precision: 0.4069767441860465, Recall: 0.6140350877192983\n",
      "For positive class= 1 and k=17 : Accuracy: 0.37, Precision: 0.36538461538461536, Recall: 0.4318181818181818\n",
      "For positive class= 2 and k=17 : Accuracy: 0.37, Precision: 0.13043478260869565, Recall: 0.06521739130434782\n",
      "For positive class= 3 and k=17 : Accuracy: 0.37, Precision: 0.4358974358974359, Recall: 0.32075471698113206\n",
      "*************************\n",
      "For positive class= 0 and k=19 : Accuracy: 0.355, Precision: 0.3855421686746988, Recall: 0.5614035087719298\n",
      "For positive class= 1 and k=19 : Accuracy: 0.355, Precision: 0.3584905660377358, Recall: 0.4318181818181818\n",
      "For positive class= 2 and k=19 : Accuracy: 0.355, Precision: 0.16, Recall: 0.08695652173913043\n",
      "For positive class= 3 and k=19 : Accuracy: 0.355, Precision: 0.41025641025641024, Recall: 0.3018867924528302\n",
      "*************************\n"
     ]
    }
   ],
   "execution_count": 50
  },
  {
   "metadata": {
    "ExecuteTime": {
     "end_time": "2024-10-23T19:11:06.117003Z",
     "start_time": "2024-10-23T19:11:06.111930Z"
    }
   },
   "cell_type": "code",
   "source": "print(f'For knn with scaled data, highest accuracy: {best_accuracy} with k={best_k}')",
   "id": "2d10b073f2716e66",
   "outputs": [
    {
     "name": "stdout",
     "output_type": "stream",
     "text": [
      "For knn with scaled data, highest accuracy: 0.37 with k=17\n"
     ]
    }
   ],
   "execution_count": 51
  },
  {
   "metadata": {
    "ExecuteTime": {
     "end_time": "2024-10-23T19:11:16.001179Z",
     "start_time": "2024-10-23T19:11:15.993561Z"
    }
   },
   "cell_type": "code",
   "source": [
    "scaled_data_train_eliminated=eliminated_data_train.copy()\n",
    "for col in scaled_data_train_eliminated:\n",
    "    if col!=not_scaled_col:\n",
    "        minimum_val=eliminated_data_train[col].min()\n",
    "        maximum_val=eliminated_data_train[col].max()\n",
    "        scaled_data_train_eliminated[col] = (eliminated_data_train[col] - minimum_val)/(maximum_val-minimum_val)"
   ],
   "id": "d896e0fa2b427ba8",
   "outputs": [],
   "execution_count": 52
  },
  {
   "metadata": {
    "ExecuteTime": {
     "end_time": "2024-10-23T19:11:18.100468Z",
     "start_time": "2024-10-23T19:11:18.091921Z"
    }
   },
   "cell_type": "code",
   "source": [
    "scaled_data_test_eliminated=eliminated_data_test.copy()\n",
    "for col in scaled_data_test_eliminated:\n",
    "    if col!=not_scaled_col:\n",
    "        minimum_val=eliminated_data_test[col].min()\n",
    "        maximum_val=eliminated_data_test[col].max()\n",
    "        scaled_data_test_eliminated[col] = (eliminated_data_test[col] - minimum_val)/(maximum_val-minimum_val)"
   ],
   "id": "fb909835f922dc74",
   "outputs": [],
   "execution_count": 53
  },
  {
   "metadata": {
    "ExecuteTime": {
     "end_time": "2024-10-23T19:11:34.808435Z",
     "start_time": "2024-10-23T19:11:34.803616Z"
    }
   },
   "cell_type": "code",
   "source": "print(\"KNN With Scaled and Eliminated Data Is Below:\")",
   "id": "d4f6c88cad4e710f",
   "outputs": [
    {
     "name": "stdout",
     "output_type": "stream",
     "text": [
      "KNN With Scaled and Eliminated Data Is Below:\n"
     ]
    }
   ],
   "execution_count": 54
  },
  {
   "metadata": {
    "ExecuteTime": {
     "end_time": "2024-10-23T19:11:50.650544Z",
     "start_time": "2024-10-23T19:11:48.161330Z"
    }
   },
   "cell_type": "code",
   "source": [
    "scaled_data_train_values_eliminated=scaled_data_train_eliminated.values.tolist()\n",
    "scaled_data_test_values_eliminated=scaled_data_test_eliminated.values.tolist()\n",
    "best_accuracy=0\n",
    "best_k=0\n",
    "for k in k_values_to_test:\n",
    "    predictions=knn(scaled_data_train_values_eliminated, scaled_data_test_values_eliminated, k)\n",
    "    for i in range (4):\n",
    "        accuracy=calculate_accuracy(scaled_data_test_values_eliminated, predictions)\n",
    "        precission=calculate_precision(scaled_data_test_values_eliminated, predictions, positive_class=i)\n",
    "        recall=calculate_recall(scaled_data_test_values_eliminated, predictions, positive_class=i)\n",
    "        print(f'For positive class= {i} and k={k} : Accuracy: {accuracy}, Precision: {precission}, Recall: {recall}')\n",
    "    if best_accuracy<accuracy:\n",
    "        best_accuracy=accuracy\n",
    "        best_k=k\n",
    "    print(\"*************************\")"
   ],
   "id": "690f36d0209c4f23",
   "outputs": [
    {
     "name": "stdout",
     "output_type": "stream",
     "text": [
      "For positive class= 0 and k=1 : Accuracy: 0.26, Precision: 0.3246753246753247, Recall: 0.43859649122807015\n",
      "For positive class= 1 and k=1 : Accuracy: 0.26, Precision: 0.25, Recall: 0.29545454545454547\n",
      "For positive class= 2 and k=1 : Accuracy: 0.26, Precision: 0.1891891891891892, Recall: 0.15217391304347827\n",
      "For positive class= 3 and k=1 : Accuracy: 0.26, Precision: 0.20588235294117646, Recall: 0.1320754716981132\n",
      "*************************\n",
      "For positive class= 0 and k=3 : Accuracy: 0.305, Precision: 0.32608695652173914, Recall: 0.5263157894736842\n",
      "For positive class= 1 and k=3 : Accuracy: 0.305, Precision: 0.2807017543859649, Recall: 0.36363636363636365\n",
      "For positive class= 2 and k=3 : Accuracy: 0.305, Precision: 0.23809523809523808, Recall: 0.10869565217391304\n",
      "For positive class= 3 and k=3 : Accuracy: 0.305, Precision: 0.3333333333333333, Recall: 0.18867924528301888\n",
      "*************************\n",
      "For positive class= 0 and k=5 : Accuracy: 0.345, Precision: 0.36585365853658536, Recall: 0.5263157894736842\n",
      "For positive class= 1 and k=5 : Accuracy: 0.345, Precision: 0.30303030303030304, Recall: 0.45454545454545453\n",
      "For positive class= 2 and k=5 : Accuracy: 0.345, Precision: 0.3125, Recall: 0.10869565217391304\n",
      "For positive class= 3 and k=5 : Accuracy: 0.345, Precision: 0.3888888888888889, Recall: 0.2641509433962264\n",
      "*************************\n",
      "For positive class= 0 and k=7 : Accuracy: 0.335, Precision: 0.38461538461538464, Recall: 0.5263157894736842\n",
      "For positive class= 1 and k=7 : Accuracy: 0.335, Precision: 0.29508196721311475, Recall: 0.4090909090909091\n",
      "For positive class= 2 and k=7 : Accuracy: 0.335, Precision: 0.2, Recall: 0.08695652173913043\n",
      "For positive class= 3 and k=7 : Accuracy: 0.335, Precision: 0.36585365853658536, Recall: 0.2830188679245283\n",
      "*************************\n",
      "For positive class= 0 and k=9 : Accuracy: 0.34, Precision: 0.379746835443038, Recall: 0.5263157894736842\n",
      "For positive class= 1 and k=9 : Accuracy: 0.34, Precision: 0.30158730158730157, Recall: 0.4318181818181818\n",
      "For positive class= 2 and k=9 : Accuracy: 0.34, Precision: 0.19230769230769232, Recall: 0.10869565217391304\n",
      "For positive class= 3 and k=9 : Accuracy: 0.34, Precision: 0.4375, Recall: 0.2641509433962264\n",
      "*************************\n",
      "For positive class= 0 and k=11 : Accuracy: 0.35, Precision: 0.375, Recall: 0.5263157894736842\n",
      "For positive class= 1 and k=11 : Accuracy: 0.35, Precision: 0.3, Recall: 0.4090909090909091\n",
      "For positive class= 2 and k=11 : Accuracy: 0.35, Precision: 0.2916666666666667, Recall: 0.15217391304347827\n",
      "For positive class= 3 and k=11 : Accuracy: 0.35, Precision: 0.4166666666666667, Recall: 0.2830188679245283\n",
      "*************************\n",
      "For positive class= 0 and k=13 : Accuracy: 0.35, Precision: 0.37209302325581395, Recall: 0.5614035087719298\n",
      "For positive class= 1 and k=13 : Accuracy: 0.35, Precision: 0.29508196721311475, Recall: 0.4090909090909091\n",
      "For positive class= 2 and k=13 : Accuracy: 0.35, Precision: 0.2727272727272727, Recall: 0.13043478260869565\n",
      "For positive class= 3 and k=13 : Accuracy: 0.35, Precision: 0.45161290322580644, Recall: 0.2641509433962264\n",
      "*************************\n",
      "For positive class= 0 and k=15 : Accuracy: 0.365, Precision: 0.38961038961038963, Recall: 0.5263157894736842\n",
      "For positive class= 1 and k=15 : Accuracy: 0.365, Precision: 0.3148148148148148, Recall: 0.38636363636363635\n",
      "For positive class= 2 and k=15 : Accuracy: 0.365, Precision: 0.3, Recall: 0.1956521739130435\n",
      "For positive class= 3 and k=15 : Accuracy: 0.365, Precision: 0.4358974358974359, Recall: 0.32075471698113206\n",
      "*************************\n",
      "For positive class= 0 and k=17 : Accuracy: 0.385, Precision: 0.39759036144578314, Recall: 0.5789473684210527\n",
      "For positive class= 1 and k=17 : Accuracy: 0.385, Precision: 0.35294117647058826, Recall: 0.4090909090909091\n",
      "For positive class= 2 and k=17 : Accuracy: 0.385, Precision: 0.3125, Recall: 0.21739130434782608\n",
      "For positive class= 3 and k=17 : Accuracy: 0.385, Precision: 0.47058823529411764, Recall: 0.3018867924528302\n",
      "*************************\n",
      "For positive class= 0 and k=19 : Accuracy: 0.36, Precision: 0.3875, Recall: 0.543859649122807\n",
      "For positive class= 1 and k=19 : Accuracy: 0.36, Precision: 0.3333333333333333, Recall: 0.36363636363636365\n",
      "For positive class= 2 and k=19 : Accuracy: 0.36, Precision: 0.2647058823529412, Recall: 0.1956521739130435\n",
      "For positive class= 3 and k=19 : Accuracy: 0.36, Precision: 0.42105263157894735, Recall: 0.3018867924528302\n",
      "*************************\n"
     ]
    }
   ],
   "execution_count": 55
  },
  {
   "metadata": {
    "ExecuteTime": {
     "end_time": "2024-10-23T19:12:12.152872Z",
     "start_time": "2024-10-23T19:12:12.148197Z"
    }
   },
   "cell_type": "code",
   "source": "print(f'For knn with scaled and eliminated data, highest accuracy: {best_accuracy} with k={best_k}')",
   "id": "44dd829162b91aa9",
   "outputs": [
    {
     "name": "stdout",
     "output_type": "stream",
     "text": [
      "For knn with scaled and eliminated data, highest accuracy: 0.385 with k=17\n"
     ]
    }
   ],
   "execution_count": 56
  },
  {
   "metadata": {
    "ExecuteTime": {
     "end_time": "2024-10-23T19:12:20.724802Z",
     "start_time": "2024-10-23T19:12:20.718503Z"
    }
   },
   "cell_type": "code",
   "source": [
    "def weighted_knn_dist(train, test, k):\n",
    "    prediction_list=[]\n",
    "    for i in test:\n",
    "        distance_list=[]\n",
    "        for t in train:\n",
    "            dist=euclidian_distance(t[:-1], i[:-1])\n",
    "            distance_list.append((t, dist))\n",
    "        distance_list.sort(key=lambda x: x[1])\n",
    "        k_nearest_neighbors=distance_list[:k]\n",
    "        weights={}\n",
    "        for neighbor, distance in k_nearest_neighbors:\n",
    "            label=neighbor[-1]\n",
    "            weight=1/(distance+1e-5)\n",
    "            if label in weights:\n",
    "                weights[label]+=weight\n",
    "            else:\n",
    "                weights[label]=weight\n",
    "        predicted_class=max(weights,key=weights.get)\n",
    "        prediction_list.append(predicted_class)\n",
    "    \n",
    "    return prediction_list\n"
   ],
   "id": "769f995032e435c1",
   "outputs": [],
   "execution_count": 57
  },
  {
   "metadata": {
    "ExecuteTime": {
     "end_time": "2024-10-23T19:12:22.171427Z",
     "start_time": "2024-10-23T19:12:22.165198Z"
    }
   },
   "cell_type": "code",
   "source": [
    "def weighted_knn_with_occurance(train, test, k):\n",
    "    occurances={}\n",
    "    for t in train:\n",
    "        label=t[-1]\n",
    "        if label in occurances:\n",
    "            occurances[label]+=1\n",
    "        else:\n",
    "            occurances[label]=1\n",
    "    prediction_list=[]\n",
    "    for i in test:\n",
    "        distance_list=[]\n",
    "        for j in train:\n",
    "            dist=euclidian_distance(j[:-1], i[:-1])\n",
    "            distance_list.append((j, dist))\n",
    "        distance_list.sort(key=lambda x: x[1])\n",
    "        nearest_neighbors = distance_list[:k]\n",
    "        weights={}\n",
    "        for neighbor, _ in nearest_neighbors:\n",
    "            label=neighbor[-1]\n",
    "            weight=1/occurances[label]\n",
    "            if label in weights:\n",
    "                weights[label]+=weight\n",
    "            else:\n",
    "                weights[label]=weight\n",
    "        predicted=max(weights, key=weights.get)\n",
    "        prediction_list.append(predicted)\n",
    "    return prediction_list\n"
   ],
   "id": "768ae92735bf88d8",
   "outputs": [],
   "execution_count": 58
  },
  {
   "metadata": {
    "ExecuteTime": {
     "end_time": "2024-10-23T19:12:50.913510Z",
     "start_time": "2024-10-23T19:12:50.907285Z"
    }
   },
   "cell_type": "code",
   "source": [
    "def weighted_knn_combined(train, test, k):\n",
    "    occurances={}\n",
    "    for t in train:\n",
    "        label=t[-1]\n",
    "        if label in occurances:\n",
    "            occurances[label]+=1\n",
    "        else:\n",
    "            occurances[label]=1\n",
    "    prediction_list=[]\n",
    "    for i in test:\n",
    "        distance_list=[]\n",
    "        for j in train:\n",
    "            dist = euclidian_distance(j[:-1], i[:-1])\n",
    "            distance_list.append((j, dist))\n",
    "        distance_list.sort(key=lambda x: x[1])\n",
    "        nearest_neighbors=distance_list[:k]\n",
    "        weights={}\n",
    "        for neighbor, dist in nearest_neighbors:\n",
    "            label=neighbor[-1]\n",
    "            weight=1/(occurances[label]*dist+1e-5)\n",
    "            if label in weights:\n",
    "                weights[label]+=weight\n",
    "            else:\n",
    "                weights[label]=weight\n",
    "        predicted = max(weights, key=weights.get)\n",
    "        prediction_list.append(predicted)\n",
    "    return prediction_list\n"
   ],
   "id": "1a0c7cb6f5732a3e",
   "outputs": [],
   "execution_count": 60
  },
  {
   "metadata": {
    "ExecuteTime": {
     "end_time": "2024-10-23T19:14:53.634966Z",
     "start_time": "2024-10-23T19:14:53.630441Z"
    }
   },
   "cell_type": "code",
   "source": "print(\"Weighted Knn According to Distance With Normal Data Is Below:\")",
   "id": "62b202470d8afa93",
   "outputs": [
    {
     "name": "stdout",
     "output_type": "stream",
     "text": [
      "Weighted Knn According to Distance With Normal Data Is Below:\n"
     ]
    }
   ],
   "execution_count": 61
  },
  {
   "metadata": {
    "ExecuteTime": {
     "end_time": "2024-10-23T19:15:20.615329Z",
     "start_time": "2024-10-23T19:15:16.068207Z"
    }
   },
   "cell_type": "code",
   "source": [
    "best_accuracy=0\n",
    "best_k=0\n",
    "for k in k_values_to_test:\n",
    "    predictions=weighted_knn_dist(train_data_values, test_data_values, k)\n",
    "    for i in range (4):\n",
    "        accuracy=calculate_accuracy(test_data_values, predictions)\n",
    "        precission=calculate_precision(test_data_values, predictions, positive_class=i)\n",
    "        recall=calculate_recall(test_data_values, predictions, positive_class=i)\n",
    "        print(f'For positive class= {i} and k={k} : Accuracy: {accuracy}, Precision: {precission}, Recall: {recall}')\n",
    "    if best_accuracy<accuracy:\n",
    "        best_accuracy=accuracy\n",
    "        best_k=k    \n",
    "    print(\"*************************\")\n",
    "    "
   ],
   "id": "d0e6a8c76f18bfa8",
   "outputs": [
    {
     "name": "stdout",
     "output_type": "stream",
     "text": [
      "For positive class= 0 and k=1 : Accuracy: 0.26, Precision: 0.3333333333333333, Recall: 0.3508771929824561\n",
      "For positive class= 1 and k=1 : Accuracy: 0.26, Precision: 0.2, Recall: 0.20454545454545456\n",
      "For positive class= 2 and k=1 : Accuracy: 0.26, Precision: 0.20512820512820512, Recall: 0.17391304347826086\n",
      "For positive class= 3 and k=1 : Accuracy: 0.26, Precision: 0.26785714285714285, Recall: 0.2830188679245283\n",
      "*************************\n",
      "For positive class= 0 and k=3 : Accuracy: 0.285, Precision: 0.34375, Recall: 0.38596491228070173\n",
      "For positive class= 1 and k=3 : Accuracy: 0.285, Precision: 0.2222222222222222, Recall: 0.22727272727272727\n",
      "For positive class= 2 and k=3 : Accuracy: 0.285, Precision: 0.21621621621621623, Recall: 0.17391304347826086\n",
      "For positive class= 3 and k=3 : Accuracy: 0.285, Precision: 0.3148148148148148, Recall: 0.32075471698113206\n",
      "*************************\n",
      "For positive class= 0 and k=5 : Accuracy: 0.34, Precision: 0.3548387096774194, Recall: 0.38596491228070173\n",
      "For positive class= 1 and k=5 : Accuracy: 0.34, Precision: 0.21621621621621623, Recall: 0.18181818181818182\n",
      "For positive class= 2 and k=5 : Accuracy: 0.34, Precision: 0.3409090909090909, Recall: 0.32608695652173914\n",
      "For positive class= 3 and k=5 : Accuracy: 0.34, Precision: 0.40350877192982454, Recall: 0.4339622641509434\n",
      "*************************\n",
      "For positive class= 0 and k=7 : Accuracy: 0.355, Precision: 0.38596491228070173, Recall: 0.38596491228070173\n",
      "For positive class= 1 and k=7 : Accuracy: 0.355, Precision: 0.2926829268292683, Recall: 0.2727272727272727\n",
      "For positive class= 2 and k=7 : Accuracy: 0.355, Precision: 0.3333333333333333, Recall: 0.30434782608695654\n",
      "For positive class= 3 and k=7 : Accuracy: 0.355, Precision: 0.38333333333333336, Recall: 0.4339622641509434\n",
      "*************************\n",
      "For positive class= 0 and k=9 : Accuracy: 0.385, Precision: 0.38181818181818183, Recall: 0.3684210526315789\n",
      "For positive class= 1 and k=9 : Accuracy: 0.385, Precision: 0.38461538461538464, Recall: 0.3409090909090909\n",
      "For positive class= 2 and k=9 : Accuracy: 0.385, Precision: 0.32653061224489793, Recall: 0.34782608695652173\n",
      "For positive class= 3 and k=9 : Accuracy: 0.385, Precision: 0.43859649122807015, Recall: 0.4716981132075472\n",
      "*************************\n",
      "For positive class= 0 and k=11 : Accuracy: 0.37, Precision: 0.35, Recall: 0.3684210526315789\n",
      "For positive class= 1 and k=11 : Accuracy: 0.37, Precision: 0.4146341463414634, Recall: 0.38636363636363635\n",
      "For positive class= 2 and k=11 : Accuracy: 0.37, Precision: 0.3181818181818182, Recall: 0.30434782608695654\n",
      "For positive class= 3 and k=11 : Accuracy: 0.37, Precision: 0.4, Recall: 0.41509433962264153\n",
      "*************************\n",
      "For positive class= 0 and k=13 : Accuracy: 0.38, Precision: 0.3508771929824561, Recall: 0.3508771929824561\n",
      "For positive class= 1 and k=13 : Accuracy: 0.38, Precision: 0.36585365853658536, Recall: 0.3409090909090909\n",
      "For positive class= 2 and k=13 : Accuracy: 0.38, Precision: 0.30952380952380953, Recall: 0.2826086956521739\n",
      "For positive class= 3 and k=13 : Accuracy: 0.38, Precision: 0.4666666666666667, Recall: 0.5283018867924528\n",
      "*************************\n",
      "For positive class= 0 and k=15 : Accuracy: 0.395, Precision: 0.34545454545454546, Recall: 0.3333333333333333\n",
      "For positive class= 1 and k=15 : Accuracy: 0.395, Precision: 0.4358974358974359, Recall: 0.38636363636363635\n",
      "For positive class= 2 and k=15 : Accuracy: 0.395, Precision: 0.3409090909090909, Recall: 0.32608695652173914\n",
      "For positive class= 3 and k=15 : Accuracy: 0.395, Precision: 0.45161290322580644, Recall: 0.5283018867924528\n",
      "*************************\n",
      "For positive class= 0 and k=17 : Accuracy: 0.385, Precision: 0.3898305084745763, Recall: 0.40350877192982454\n",
      "For positive class= 1 and k=17 : Accuracy: 0.385, Precision: 0.39473684210526316, Recall: 0.3409090909090909\n",
      "For positive class= 2 and k=17 : Accuracy: 0.385, Precision: 0.3023255813953488, Recall: 0.2826086956521739\n",
      "For positive class= 3 and k=17 : Accuracy: 0.385, Precision: 0.43333333333333335, Recall: 0.49056603773584906\n",
      "*************************\n",
      "For positive class= 0 and k=19 : Accuracy: 0.4, Precision: 0.38461538461538464, Recall: 0.43859649122807015\n",
      "For positive class= 1 and k=19 : Accuracy: 0.4, Precision: 0.40540540540540543, Recall: 0.3409090909090909\n",
      "For positive class= 2 and k=19 : Accuracy: 0.4, Precision: 0.3888888888888889, Recall: 0.30434782608695654\n",
      "For positive class= 3 and k=19 : Accuracy: 0.4, Precision: 0.41935483870967744, Recall: 0.49056603773584906\n",
      "*************************\n"
     ]
    }
   ],
   "execution_count": 62
  },
  {
   "metadata": {
    "ExecuteTime": {
     "end_time": "2024-10-23T19:15:40.017986Z",
     "start_time": "2024-10-23T19:15:40.013488Z"
    }
   },
   "cell_type": "code",
   "source": "print(f'For weighted knn with normal data, highest accuracy: {best_accuracy} with k={best_k}')",
   "id": "7378dce46e9939b8",
   "outputs": [
    {
     "name": "stdout",
     "output_type": "stream",
     "text": [
      "For weighted knn with normal data, highest accuracy: 0.4 with k=19\n"
     ]
    }
   ],
   "execution_count": 63
  },
  {
   "metadata": {
    "ExecuteTime": {
     "end_time": "2024-10-23T19:16:54.632845Z",
     "start_time": "2024-10-23T19:16:54.628824Z"
    }
   },
   "cell_type": "code",
   "source": "print(\"Weighted Knn According to Class Occurance With Normal Data Is Below:\")",
   "id": "32d0033388e2e294",
   "outputs": [
    {
     "name": "stdout",
     "output_type": "stream",
     "text": [
      "Weighted Knn According to Class Occurance With Normal Data Is Below:\n"
     ]
    }
   ],
   "execution_count": 65
  },
  {
   "metadata": {
    "ExecuteTime": {
     "end_time": "2024-10-23T19:17:18.887903Z",
     "start_time": "2024-10-23T19:17:14.485489Z"
    }
   },
   "cell_type": "code",
   "source": [
    "best_accuracy=0\n",
    "best_k=0\n",
    "for k in k_values_to_test:\n",
    "    predictions=weighted_knn_with_occurance(train_data_values, test_data_values, k)\n",
    "    for i in range (4):\n",
    "        accuracy=calculate_accuracy(test_data_values, predictions)\n",
    "        precission=calculate_precision(test_data_values, predictions, positive_class=i)\n",
    "        recall=calculate_recall(test_data_values, predictions, positive_class=i)\n",
    "        print(f'For positive class= {i} and k={k} : Accuracy: {accuracy}, Precision: {precission}, Recall: {recall}')\n",
    "    if best_accuracy<accuracy:\n",
    "        best_accuracy=accuracy\n",
    "        best_k=k\n",
    "    print(\"*************************\")"
   ],
   "id": "887e3aaf16129857",
   "outputs": [
    {
     "name": "stdout",
     "output_type": "stream",
     "text": [
      "For positive class= 0 and k=1 : Accuracy: 0.26, Precision: 0.3333333333333333, Recall: 0.3508771929824561\n",
      "For positive class= 1 and k=1 : Accuracy: 0.26, Precision: 0.2, Recall: 0.20454545454545456\n",
      "For positive class= 2 and k=1 : Accuracy: 0.26, Precision: 0.20512820512820512, Recall: 0.17391304347826086\n",
      "For positive class= 3 and k=1 : Accuracy: 0.26, Precision: 0.26785714285714285, Recall: 0.2830188679245283\n",
      "*************************\n",
      "For positive class= 0 and k=3 : Accuracy: 0.27, Precision: 0.2916666666666667, Recall: 0.24561403508771928\n",
      "For positive class= 1 and k=3 : Accuracy: 0.27, Precision: 0.20930232558139536, Recall: 0.20454545454545456\n",
      "For positive class= 2 and k=3 : Accuracy: 0.27, Precision: 0.25, Recall: 0.3695652173913043\n",
      "For positive class= 3 and k=3 : Accuracy: 0.27, Precision: 0.34146341463414637, Recall: 0.2641509433962264\n",
      "*************************\n",
      "For positive class= 0 and k=5 : Accuracy: 0.37, Precision: 0.42105263157894735, Recall: 0.2807017543859649\n",
      "For positive class= 1 and k=5 : Accuracy: 0.37, Precision: 0.3125, Recall: 0.3409090909090909\n",
      "For positive class= 2 and k=5 : Accuracy: 0.37, Precision: 0.3387096774193548, Recall: 0.45652173913043476\n",
      "For positive class= 3 and k=5 : Accuracy: 0.37, Precision: 0.4230769230769231, Recall: 0.41509433962264153\n",
      "*************************\n",
      "For positive class= 0 and k=7 : Accuracy: 0.36, Precision: 0.3541666666666667, Recall: 0.2982456140350877\n",
      "For positive class= 1 and k=7 : Accuracy: 0.36, Precision: 0.3181818181818182, Recall: 0.3181818181818182\n",
      "For positive class= 2 and k=7 : Accuracy: 0.36, Precision: 0.34545454545454546, Recall: 0.41304347826086957\n",
      "For positive class= 3 and k=7 : Accuracy: 0.36, Precision: 0.41509433962264153, Recall: 0.41509433962264153\n",
      "*************************\n",
      "For positive class= 0 and k=9 : Accuracy: 0.39, Precision: 0.36585365853658536, Recall: 0.2631578947368421\n",
      "For positive class= 1 and k=9 : Accuracy: 0.39, Precision: 0.37777777777777777, Recall: 0.38636363636363635\n",
      "For positive class= 2 and k=9 : Accuracy: 0.39, Precision: 0.3389830508474576, Recall: 0.43478260869565216\n",
      "For positive class= 3 and k=9 : Accuracy: 0.39, Precision: 0.4727272727272727, Recall: 0.49056603773584906\n",
      "*************************\n",
      "For positive class= 0 and k=11 : Accuracy: 0.355, Precision: 0.3191489361702128, Recall: 0.2631578947368421\n",
      "For positive class= 1 and k=11 : Accuracy: 0.355, Precision: 0.3953488372093023, Recall: 0.38636363636363635\n",
      "For positive class= 2 and k=11 : Accuracy: 0.355, Precision: 0.29310344827586204, Recall: 0.3695652173913043\n",
      "For positive class= 3 and k=11 : Accuracy: 0.355, Precision: 0.4230769230769231, Recall: 0.41509433962264153\n",
      "*************************\n",
      "For positive class= 0 and k=13 : Accuracy: 0.39, Precision: 0.39473684210526316, Recall: 0.2631578947368421\n",
      "For positive class= 1 and k=13 : Accuracy: 0.39, Precision: 0.40476190476190477, Recall: 0.38636363636363635\n",
      "For positive class= 2 and k=13 : Accuracy: 0.39, Precision: 0.30303030303030304, Recall: 0.43478260869565216\n",
      "For positive class= 3 and k=13 : Accuracy: 0.39, Precision: 0.48148148148148145, Recall: 0.49056603773584906\n",
      "*************************\n",
      "For positive class= 0 and k=15 : Accuracy: 0.375, Precision: 0.3611111111111111, Recall: 0.22807017543859648\n",
      "For positive class= 1 and k=15 : Accuracy: 0.375, Precision: 0.3695652173913043, Recall: 0.38636363636363635\n",
      "For positive class= 2 and k=15 : Accuracy: 0.375, Precision: 0.3050847457627119, Recall: 0.391304347826087\n",
      "For positive class= 3 and k=15 : Accuracy: 0.375, Precision: 0.4576271186440678, Recall: 0.5094339622641509\n",
      "*************************\n",
      "For positive class= 0 and k=17 : Accuracy: 0.37, Precision: 0.358974358974359, Recall: 0.24561403508771928\n",
      "For positive class= 1 and k=17 : Accuracy: 0.37, Precision: 0.32608695652173914, Recall: 0.3409090909090909\n",
      "For positive class= 2 and k=17 : Accuracy: 0.37, Precision: 0.3392857142857143, Recall: 0.41304347826086957\n",
      "For positive class= 3 and k=17 : Accuracy: 0.37, Precision: 0.4406779661016949, Recall: 0.49056603773584906\n",
      "*************************\n",
      "For positive class= 0 and k=19 : Accuracy: 0.35, Precision: 0.325, Recall: 0.22807017543859648\n",
      "For positive class= 1 and k=19 : Accuracy: 0.35, Precision: 0.34146341463414637, Recall: 0.3181818181818182\n",
      "For positive class= 2 and k=19 : Accuracy: 0.35, Precision: 0.3333333333333333, Recall: 0.43478260869565216\n",
      "For positive class= 3 and k=19 : Accuracy: 0.35, Precision: 0.3898305084745763, Recall: 0.4339622641509434\n",
      "*************************\n"
     ]
    }
   ],
   "execution_count": 66
  },
  {
   "metadata": {
    "ExecuteTime": {
     "end_time": "2024-10-23T19:17:20.657081Z",
     "start_time": "2024-10-23T19:17:20.652753Z"
    }
   },
   "cell_type": "code",
   "source": "print(f'For weighted knn according to class occurance with normal data, highest accuracy: {best_accuracy} with k={best_k}')",
   "id": "230d6b6557a90324",
   "outputs": [
    {
     "name": "stdout",
     "output_type": "stream",
     "text": [
      "For weighted knn according to class occurance with normal data, highest accuracy: 0.39 with k=9\n"
     ]
    }
   ],
   "execution_count": 67
  },
  {
   "metadata": {
    "ExecuteTime": {
     "end_time": "2024-10-23T19:18:14.390626Z",
     "start_time": "2024-10-23T19:18:14.385970Z"
    }
   },
   "cell_type": "code",
   "source": "print(\"Weighted Knn According to Combined With Normal Data Is Below:\")",
   "id": "be14710db0037ece",
   "outputs": [
    {
     "name": "stdout",
     "output_type": "stream",
     "text": [
      "Weighted Knn According to Combined With Normal Data Is Below:\n"
     ]
    }
   ],
   "execution_count": 68
  },
  {
   "metadata": {
    "ExecuteTime": {
     "end_time": "2024-10-23T19:18:21.713557Z",
     "start_time": "2024-10-23T19:18:17.210538Z"
    }
   },
   "cell_type": "code",
   "source": [
    "best_accuracy=0\n",
    "best_k=0\n",
    "for k in k_values_to_test:\n",
    "    predictions=weighted_knn_combined(train_data_values, test_data_values, k)\n",
    "    for i in range (4):\n",
    "        accuracy=calculate_accuracy(test_data_values, predictions)\n",
    "        precission=calculate_precision(test_data_values, predictions, positive_class=i)\n",
    "        recall=calculate_recall(test_data_values, predictions, positive_class=i)\n",
    "        print(f'For positive class= {i} and k={k} : Accuracy: {accuracy}, Precision: {precission}, Recall: {recall}')\n",
    "    if best_accuracy<accuracy:\n",
    "        best_accuracy=accuracy\n",
    "        best_k=k\n",
    "    print(\"*************************\")"
   ],
   "id": "ef47975b5801f132",
   "outputs": [
    {
     "name": "stdout",
     "output_type": "stream",
     "text": [
      "For positive class= 0 and k=1 : Accuracy: 0.26, Precision: 0.3333333333333333, Recall: 0.3508771929824561\n",
      "For positive class= 1 and k=1 : Accuracy: 0.26, Precision: 0.2, Recall: 0.20454545454545456\n",
      "For positive class= 2 and k=1 : Accuracy: 0.26, Precision: 0.20512820512820512, Recall: 0.17391304347826086\n",
      "For positive class= 3 and k=1 : Accuracy: 0.26, Precision: 0.26785714285714285, Recall: 0.2830188679245283\n",
      "*************************\n",
      "For positive class= 0 and k=3 : Accuracy: 0.27, Precision: 0.32727272727272727, Recall: 0.3157894736842105\n",
      "For positive class= 1 and k=3 : Accuracy: 0.27, Precision: 0.1956521739130435, Recall: 0.20454545454545456\n",
      "For positive class= 2 and k=3 : Accuracy: 0.27, Precision: 0.23076923076923078, Recall: 0.2608695652173913\n",
      "For positive class= 3 and k=3 : Accuracy: 0.27, Precision: 0.3191489361702128, Recall: 0.2830188679245283\n",
      "*************************\n",
      "For positive class= 0 and k=5 : Accuracy: 0.355, Precision: 0.42, Recall: 0.3684210526315789\n",
      "For positive class= 1 and k=5 : Accuracy: 0.355, Precision: 0.23076923076923078, Recall: 0.20454545454545456\n",
      "For positive class= 2 and k=5 : Accuracy: 0.355, Precision: 0.3392857142857143, Recall: 0.41304347826086957\n",
      "For positive class= 3 and k=5 : Accuracy: 0.355, Precision: 0.4, Recall: 0.41509433962264153\n",
      "*************************\n",
      "For positive class= 0 and k=7 : Accuracy: 0.35, Precision: 0.38, Recall: 0.3333333333333333\n",
      "For positive class= 1 and k=7 : Accuracy: 0.35, Precision: 0.2558139534883721, Recall: 0.25\n",
      "For positive class= 2 and k=7 : Accuracy: 0.35, Precision: 0.33962264150943394, Recall: 0.391304347826087\n",
      "For positive class= 3 and k=7 : Accuracy: 0.35, Precision: 0.4074074074074074, Recall: 0.41509433962264153\n",
      "*************************\n",
      "For positive class= 0 and k=9 : Accuracy: 0.37, Precision: 0.36363636363636365, Recall: 0.2807017543859649\n",
      "For positive class= 1 and k=9 : Accuracy: 0.37, Precision: 0.3409090909090909, Recall: 0.3409090909090909\n",
      "For positive class= 2 and k=9 : Accuracy: 0.37, Precision: 0.3103448275862069, Recall: 0.391304347826087\n",
      "For positive class= 3 and k=9 : Accuracy: 0.37, Precision: 0.46296296296296297, Recall: 0.4716981132075472\n",
      "*************************\n",
      "For positive class= 0 and k=11 : Accuracy: 0.355, Precision: 0.35555555555555557, Recall: 0.2807017543859649\n",
      "For positive class= 1 and k=11 : Accuracy: 0.355, Precision: 0.3488372093023256, Recall: 0.3409090909090909\n",
      "For positive class= 2 and k=11 : Accuracy: 0.355, Precision: 0.3064516129032258, Recall: 0.41304347826086957\n",
      "For positive class= 3 and k=11 : Accuracy: 0.355, Precision: 0.42, Recall: 0.39622641509433965\n",
      "*************************\n",
      "For positive class= 0 and k=13 : Accuracy: 0.36, Precision: 0.35714285714285715, Recall: 0.2631578947368421\n",
      "For positive class= 1 and k=13 : Accuracy: 0.36, Precision: 0.36585365853658536, Recall: 0.3409090909090909\n",
      "For positive class= 2 and k=13 : Accuracy: 0.36, Precision: 0.25396825396825395, Recall: 0.34782608695652173\n",
      "For positive class= 3 and k=13 : Accuracy: 0.36, Precision: 0.48148148148148145, Recall: 0.49056603773584906\n",
      "*************************\n",
      "For positive class= 0 and k=15 : Accuracy: 0.345, Precision: 0.3333333333333333, Recall: 0.22807017543859648\n",
      "For positive class= 1 and k=15 : Accuracy: 0.345, Precision: 0.34210526315789475, Recall: 0.29545454545454547\n",
      "For positive class= 2 and k=15 : Accuracy: 0.345, Precision: 0.25757575757575757, Recall: 0.3695652173913043\n",
      "For positive class= 3 and k=15 : Accuracy: 0.345, Precision: 0.45614035087719296, Recall: 0.49056603773584906\n",
      "*************************\n",
      "For positive class= 0 and k=17 : Accuracy: 0.36, Precision: 0.35714285714285715, Recall: 0.2631578947368421\n",
      "For positive class= 1 and k=17 : Accuracy: 0.36, Precision: 0.3333333333333333, Recall: 0.3181818181818182\n",
      "For positive class= 2 and k=17 : Accuracy: 0.36, Precision: 0.3103448275862069, Recall: 0.391304347826087\n",
      "For positive class= 3 and k=17 : Accuracy: 0.36, Precision: 0.43103448275862066, Recall: 0.4716981132075472\n",
      "*************************\n",
      "For positive class= 0 and k=19 : Accuracy: 0.34, Precision: 0.3333333333333333, Recall: 0.22807017543859648\n",
      "For positive class= 1 and k=19 : Accuracy: 0.34, Precision: 0.3333333333333333, Recall: 0.3409090909090909\n",
      "For positive class= 2 and k=19 : Accuracy: 0.34, Precision: 0.2833333333333333, Recall: 0.3695652173913043\n",
      "For positive class= 3 and k=19 : Accuracy: 0.34, Precision: 0.4107142857142857, Recall: 0.4339622641509434\n",
      "*************************\n"
     ]
    }
   ],
   "execution_count": 69
  },
  {
   "metadata": {
    "ExecuteTime": {
     "end_time": "2024-10-23T19:18:23.490126Z",
     "start_time": "2024-10-23T19:18:23.485115Z"
    }
   },
   "cell_type": "code",
   "source": "print(f'For weighted knn according to combined with normal data, highest accuracy: {best_accuracy} with k={best_k}')",
   "id": "d04e4726729edec6",
   "outputs": [
    {
     "name": "stdout",
     "output_type": "stream",
     "text": [
      "For weighted knn according to combined with normal data, highest accuracy: 0.37 with k=9\n"
     ]
    }
   ],
   "execution_count": 70
  },
  {
   "metadata": {},
   "cell_type": "code",
   "outputs": [],
   "execution_count": null,
   "source": "##Report",
   "id": "b94a7c9199615957"
  },
  {
   "metadata": {},
   "cell_type": "markdown",
   "source": [
    "In this project, I implemented knn methods to apply classification problem according to service feature in our dataset. We had 4 service type in that feature. First, I read the data and visualized some features that I thought important. And I checked some values such as mean age, maximum salary etc. Then I encoded categorical variables to apply knn. I created train and test sets. Then I started to implement my knn methods. I used Euclidian Distance to measure distance. Then in find neighbor method, I iterated through training parameter and ordered distance list and find k neirest neighbors. Then I classified my points according to k neirest neighbors's classes.\n",
    "\n",
    "For eliminated data part, I eliminated district,address,reside,gender,is_married,is_retired,customer_since features and applied my knn algorithm to that eliminated data. For scaled one, I scaled my data according to min max values and applied knn to that data.\\n\"\n",
    "\n",
    "For weighted knns: I extended the basic knn algorithm by adding weights to the predictions. The weights were calculated inversely proportional to the distance between the test data and the neighbors in the training data. For class occurance weighted knn, the more frequent a class was the less weight it received, allowing the rarer classes to gain more importance. For combined weighted knn, I combined the weighted knn and occurance based weighted knn.\n",
    "\n",
    "As seen from the result, weighted knns has more success in overall. To get higher accuracies, some improvements may be done:\n",
    "\n",
    "Feature Engineering: Additional features (e.g., data normalization, feature enrichment) can be applied to the data.\n",
    "\n",
    "Balancing the Dataset: If there is class imbalance in the training dataset, this can negatively affect the performance. Data augmentation techniques or balancing strategies can be applied to resolve this issue.\"\n",
    " Cross Validation may be useful.\n",
    "\n",
    "My maximum k value was 19. Maybe higher k values may gets higher accuracies."
   ],
   "id": "77757cf897d2982a"
  }
 ],
 "metadata": {
  "kernelspec": {
   "display_name": "Python 3",
   "language": "python",
   "name": "python3"
  },
  "language_info": {
   "codemirror_mode": {
    "name": "ipython",
    "version": 2
   },
   "file_extension": ".py",
   "mimetype": "text/x-python",
   "name": "python",
   "nbconvert_exporter": "python",
   "pygments_lexer": "ipython2",
   "version": "2.7.6"
  }
 },
 "nbformat": 4,
 "nbformat_minor": 5
}
